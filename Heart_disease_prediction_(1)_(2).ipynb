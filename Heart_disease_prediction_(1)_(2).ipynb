{
  "nbformat": 4,
  "nbformat_minor": 0,
  "metadata": {
    "kernelspec": {
      "display_name": "Python 3",
      "language": "python",
      "name": "python3"
    },
    "language_info": {
      "codemirror_mode": {
        "name": "ipython",
        "version": 3
      },
      "file_extension": ".py",
      "mimetype": "text/x-python",
      "name": "python",
      "nbconvert_exporter": "python",
      "pygments_lexer": "ipython3",
      "version": "3.6.2"
    },
    "colab": {
      "name": "Heart_disease_prediction (1) (2).ipynb",
      "provenance": [],
      "collapsed_sections": [
        "GM5v3WsOG-ap",
        "tqJmgU0_G-ay"
      ]
    }
  },
  "cells": [
    {
      "cell_type": "markdown",
      "metadata": {
        "_uuid": "bbd660b62cc616efa33651beedc49b86045b784d",
        "id": "-u--r6AwG-Z4"
      },
      "source": [
        "## <font size=5> <strong>Heart Disease Prediction\n",
        "\n",
        " "
      ]
    },
    {
      "cell_type": "markdown",
      "metadata": {
        "_uuid": "e41ea25bec5928203cec544d0413fecd4b4e5555",
        "id": "o_NQIQhxG-aF"
      },
      "source": [
        "## I. Importing  libraries"
      ]
    },
    {
      "cell_type": "code",
      "metadata": {
        "_uuid": "f571f7e57c828d45fe55f6136fe8c2e796f74d4e",
        "colab": {
          "base_uri": "https://localhost:8080/"
        },
        "id": "lay2NMekG-aH",
        "outputId": "5c1f278c-29ab-4574-fe8e-6c6489534397"
      },
      "source": [
        "import numpy as np\n",
        "import pandas as pd\n",
        "import matplotlib.pyplot as plt\n",
        "import seaborn as sns\n",
        "from sklearn.metrics import precision_score\n",
        "from sklearn.metrics import recall_score\n",
        "from sklearn.metrics import confusion_matrix\n",
        "\n",
        "%matplotlib inline\n",
        "\n",
        "import os\n",
        "print(os.listdir())\n",
        "\n",
        "import warnings\n",
        "warnings.filterwarnings('ignore')"
      ],
      "execution_count": null,
      "outputs": [
        {
          "output_type": "stream",
          "name": "stdout",
          "text": [
            "['.config', 'new_dataset.csv', '.ipynb_checkpoints', 'sample_data']\n"
          ]
        }
      ]
    },
    {
      "cell_type": "markdown",
      "metadata": {
        "_uuid": "44e71221837f6fa60edc2c83b7492ddb019cc1cd",
        "id": "_r7kh1gFG-aN"
      },
      "source": [
        "## II. Importing and analysing our dataset "
      ]
    },
    {
      "cell_type": "code",
      "metadata": {
        "_uuid": "2a1a1dae64ae3c934849b2b918bc7d68cd59e3f6",
        "id": "3sjnDBw_G-aP"
      },
      "source": [
        "dataset = pd.read_csv(\"new_dataset.csv\")"
      ],
      "execution_count": null,
      "outputs": []
    },
    {
      "cell_type": "code",
      "metadata": {
        "_uuid": "86353d54a331dbf55a63874402cf13e2a72c3750",
        "colab": {
          "base_uri": "https://localhost:8080/"
        },
        "id": "eDztTVOZG-aS",
        "outputId": "c060f993-5d6f-4713-9d9f-9df4fff3c26b"
      },
      "source": [
        "type(dataset)"
      ],
      "execution_count": null,
      "outputs": [
        {
          "output_type": "execute_result",
          "data": {
            "text/plain": [
              "pandas.core.frame.DataFrame"
            ]
          },
          "metadata": {},
          "execution_count": 94
        }
      ]
    },
    {
      "cell_type": "code",
      "metadata": {
        "_uuid": "0a2396061d262bee451e61dd51be84d0bd1ac9d0",
        "colab": {
          "base_uri": "https://localhost:8080/"
        },
        "id": "E4fqkj5pG-aX",
        "outputId": "9cdad1a3-7c34-45ec-ec21-81d1b509b4e5"
      },
      "source": [
        "dataset.shape"
      ],
      "execution_count": null,
      "outputs": [
        {
          "output_type": "execute_result",
          "data": {
            "text/plain": [
              "(810, 14)"
            ]
          },
          "metadata": {},
          "execution_count": 95
        }
      ]
    },
    {
      "cell_type": "markdown",
      "metadata": {
        "_uuid": "3e1de0c39fc28f086a5e8377cc5fbdbf91d377b3",
        "id": "vM3VQ-RtG-aZ"
      },
      "source": [
        "#### Printing out a few columns"
      ]
    },
    {
      "cell_type": "code",
      "metadata": {
        "_uuid": "87ebcc578e5959fe9a9c9a538c73122183454459",
        "colab": {
          "base_uri": "https://localhost:8080/",
          "height": 206
        },
        "id": "geYCwbNsG-ab",
        "outputId": "429db08c-3c45-4568-f83c-b8636be21687"
      },
      "source": [
        "dataset.head(5)"
      ],
      "execution_count": null,
      "outputs": [
        {
          "output_type": "execute_result",
          "data": {
            "text/html": [
              "<div>\n",
              "<style scoped>\n",
              "    .dataframe tbody tr th:only-of-type {\n",
              "        vertical-align: middle;\n",
              "    }\n",
              "\n",
              "    .dataframe tbody tr th {\n",
              "        vertical-align: top;\n",
              "    }\n",
              "\n",
              "    .dataframe thead th {\n",
              "        text-align: right;\n",
              "    }\n",
              "</style>\n",
              "<table border=\"1\" class=\"dataframe\">\n",
              "  <thead>\n",
              "    <tr style=\"text-align: right;\">\n",
              "      <th></th>\n",
              "      <th>age</th>\n",
              "      <th>sex</th>\n",
              "      <th>cp</th>\n",
              "      <th>trestbps</th>\n",
              "      <th>chol</th>\n",
              "      <th>fbs</th>\n",
              "      <th>restecg</th>\n",
              "      <th>thalach</th>\n",
              "      <th>exang</th>\n",
              "      <th>oldpeak</th>\n",
              "      <th>slope</th>\n",
              "      <th>ca</th>\n",
              "      <th>thal</th>\n",
              "      <th>target</th>\n",
              "    </tr>\n",
              "  </thead>\n",
              "  <tbody>\n",
              "    <tr>\n",
              "      <th>0</th>\n",
              "      <td>63</td>\n",
              "      <td>1</td>\n",
              "      <td>3</td>\n",
              "      <td>145</td>\n",
              "      <td>233</td>\n",
              "      <td>1</td>\n",
              "      <td>0</td>\n",
              "      <td>150</td>\n",
              "      <td>0</td>\n",
              "      <td>2.3</td>\n",
              "      <td>0</td>\n",
              "      <td>0</td>\n",
              "      <td>1</td>\n",
              "      <td>1</td>\n",
              "    </tr>\n",
              "    <tr>\n",
              "      <th>1</th>\n",
              "      <td>37</td>\n",
              "      <td>1</td>\n",
              "      <td>2</td>\n",
              "      <td>130</td>\n",
              "      <td>250</td>\n",
              "      <td>0</td>\n",
              "      <td>1</td>\n",
              "      <td>187</td>\n",
              "      <td>0</td>\n",
              "      <td>3.5</td>\n",
              "      <td>0</td>\n",
              "      <td>0</td>\n",
              "      <td>2</td>\n",
              "      <td>1</td>\n",
              "    </tr>\n",
              "    <tr>\n",
              "      <th>2</th>\n",
              "      <td>41</td>\n",
              "      <td>0</td>\n",
              "      <td>1</td>\n",
              "      <td>130</td>\n",
              "      <td>204</td>\n",
              "      <td>0</td>\n",
              "      <td>0</td>\n",
              "      <td>172</td>\n",
              "      <td>0</td>\n",
              "      <td>1.4</td>\n",
              "      <td>2</td>\n",
              "      <td>0</td>\n",
              "      <td>2</td>\n",
              "      <td>1</td>\n",
              "    </tr>\n",
              "    <tr>\n",
              "      <th>3</th>\n",
              "      <td>56</td>\n",
              "      <td>1</td>\n",
              "      <td>1</td>\n",
              "      <td>120</td>\n",
              "      <td>236</td>\n",
              "      <td>0</td>\n",
              "      <td>1</td>\n",
              "      <td>178</td>\n",
              "      <td>0</td>\n",
              "      <td>0.8</td>\n",
              "      <td>2</td>\n",
              "      <td>0</td>\n",
              "      <td>2</td>\n",
              "      <td>1</td>\n",
              "    </tr>\n",
              "    <tr>\n",
              "      <th>4</th>\n",
              "      <td>57</td>\n",
              "      <td>0</td>\n",
              "      <td>0</td>\n",
              "      <td>120</td>\n",
              "      <td>354</td>\n",
              "      <td>0</td>\n",
              "      <td>1</td>\n",
              "      <td>163</td>\n",
              "      <td>1</td>\n",
              "      <td>0.6</td>\n",
              "      <td>2</td>\n",
              "      <td>0</td>\n",
              "      <td>2</td>\n",
              "      <td>1</td>\n",
              "    </tr>\n",
              "  </tbody>\n",
              "</table>\n",
              "</div>"
            ],
            "text/plain": [
              "   age  sex  cp  trestbps  chol  fbs  ...  exang  oldpeak  slope  ca  thal  target\n",
              "0   63    1   3       145   233    1  ...      0      2.3      0   0     1       1\n",
              "1   37    1   2       130   250    0  ...      0      3.5      0   0     2       1\n",
              "2   41    0   1       130   204    0  ...      0      1.4      2   0     2       1\n",
              "3   56    1   1       120   236    0  ...      0      0.8      2   0     2       1\n",
              "4   57    0   0       120   354    0  ...      1      0.6      2   0     2       1\n",
              "\n",
              "[5 rows x 14 columns]"
            ]
          },
          "metadata": {},
          "execution_count": 5
        }
      ]
    },
    {
      "cell_type": "code",
      "metadata": {
        "_uuid": "5132eb43114bf99d5f857f459d0c9d2faffc9644",
        "colab": {
          "base_uri": "https://localhost:8080/",
          "height": 206
        },
        "id": "EnW4XvMrG-ad",
        "outputId": "ffeb9084-42bc-43df-88c2-be5b994efcb4"
      },
      "source": [
        "dataset.sample(5)"
      ],
      "execution_count": null,
      "outputs": [
        {
          "output_type": "execute_result",
          "data": {
            "text/html": [
              "<div>\n",
              "<style scoped>\n",
              "    .dataframe tbody tr th:only-of-type {\n",
              "        vertical-align: middle;\n",
              "    }\n",
              "\n",
              "    .dataframe tbody tr th {\n",
              "        vertical-align: top;\n",
              "    }\n",
              "\n",
              "    .dataframe thead th {\n",
              "        text-align: right;\n",
              "    }\n",
              "</style>\n",
              "<table border=\"1\" class=\"dataframe\">\n",
              "  <thead>\n",
              "    <tr style=\"text-align: right;\">\n",
              "      <th></th>\n",
              "      <th>age</th>\n",
              "      <th>sex</th>\n",
              "      <th>cp</th>\n",
              "      <th>trestbps</th>\n",
              "      <th>chol</th>\n",
              "      <th>fbs</th>\n",
              "      <th>restecg</th>\n",
              "      <th>thalach</th>\n",
              "      <th>exang</th>\n",
              "      <th>oldpeak</th>\n",
              "      <th>slope</th>\n",
              "      <th>ca</th>\n",
              "      <th>thal</th>\n",
              "      <th>target</th>\n",
              "    </tr>\n",
              "  </thead>\n",
              "  <tbody>\n",
              "    <tr>\n",
              "      <th>652</th>\n",
              "      <td>49</td>\n",
              "      <td>1</td>\n",
              "      <td>3</td>\n",
              "      <td>118</td>\n",
              "      <td>149</td>\n",
              "      <td>0</td>\n",
              "      <td>2</td>\n",
              "      <td>126</td>\n",
              "      <td>0</td>\n",
              "      <td>0.8</td>\n",
              "      <td>1</td>\n",
              "      <td>3</td>\n",
              "      <td>3</td>\n",
              "      <td>1</td>\n",
              "    </tr>\n",
              "    <tr>\n",
              "      <th>443</th>\n",
              "      <td>51</td>\n",
              "      <td>0</td>\n",
              "      <td>2</td>\n",
              "      <td>120</td>\n",
              "      <td>295</td>\n",
              "      <td>0</td>\n",
              "      <td>0</td>\n",
              "      <td>157</td>\n",
              "      <td>0</td>\n",
              "      <td>0.6</td>\n",
              "      <td>2</td>\n",
              "      <td>0</td>\n",
              "      <td>2</td>\n",
              "      <td>1</td>\n",
              "    </tr>\n",
              "    <tr>\n",
              "      <th>171</th>\n",
              "      <td>48</td>\n",
              "      <td>1</td>\n",
              "      <td>1</td>\n",
              "      <td>110</td>\n",
              "      <td>229</td>\n",
              "      <td>0</td>\n",
              "      <td>1</td>\n",
              "      <td>168</td>\n",
              "      <td>0</td>\n",
              "      <td>1.0</td>\n",
              "      <td>0</td>\n",
              "      <td>0</td>\n",
              "      <td>3</td>\n",
              "      <td>0</td>\n",
              "    </tr>\n",
              "    <tr>\n",
              "      <th>616</th>\n",
              "      <td>59</td>\n",
              "      <td>1</td>\n",
              "      <td>4</td>\n",
              "      <td>135</td>\n",
              "      <td>234</td>\n",
              "      <td>0</td>\n",
              "      <td>0</td>\n",
              "      <td>161</td>\n",
              "      <td>0</td>\n",
              "      <td>0.5</td>\n",
              "      <td>2</td>\n",
              "      <td>0</td>\n",
              "      <td>7</td>\n",
              "      <td>0</td>\n",
              "    </tr>\n",
              "    <tr>\n",
              "      <th>18</th>\n",
              "      <td>43</td>\n",
              "      <td>1</td>\n",
              "      <td>0</td>\n",
              "      <td>150</td>\n",
              "      <td>247</td>\n",
              "      <td>0</td>\n",
              "      <td>1</td>\n",
              "      <td>171</td>\n",
              "      <td>0</td>\n",
              "      <td>1.5</td>\n",
              "      <td>2</td>\n",
              "      <td>0</td>\n",
              "      <td>2</td>\n",
              "      <td>1</td>\n",
              "    </tr>\n",
              "  </tbody>\n",
              "</table>\n",
              "</div>"
            ],
            "text/plain": [
              "     age  sex  cp  trestbps  chol  fbs  ...  exang  oldpeak  slope  ca  thal  target\n",
              "652   49    1   3       118   149    0  ...      0      0.8      1   3     3       1\n",
              "443   51    0   2       120   295    0  ...      0      0.6      2   0     2       1\n",
              "171   48    1   1       110   229    0  ...      0      1.0      0   0     3       0\n",
              "616   59    1   4       135   234    0  ...      0      0.5      2   0     7       0\n",
              "18    43    1   0       150   247    0  ...      0      1.5      2   0     2       1\n",
              "\n",
              "[5 rows x 14 columns]"
            ]
          },
          "metadata": {},
          "execution_count": 6
        }
      ]
    },
    {
      "cell_type": "markdown",
      "metadata": {
        "_uuid": "1113236bec2848d33c5bfe088ff0d03246b8b7ce",
        "id": "oklecT2bG-ae"
      },
      "source": [
        "#### Description"
      ]
    },
    {
      "cell_type": "code",
      "metadata": {
        "_uuid": "c31619815cb0dae5586985671fdc21110b39a821",
        "colab": {
          "base_uri": "https://localhost:8080/",
          "height": 320
        },
        "id": "6AyFvmDkG-af",
        "outputId": "047a7ce1-13c5-4243-df24-5956b683902b"
      },
      "source": [
        "dataset.describe()"
      ],
      "execution_count": null,
      "outputs": [
        {
          "output_type": "execute_result",
          "data": {
            "text/html": [
              "<div>\n",
              "<style scoped>\n",
              "    .dataframe tbody tr th:only-of-type {\n",
              "        vertical-align: middle;\n",
              "    }\n",
              "\n",
              "    .dataframe tbody tr th {\n",
              "        vertical-align: top;\n",
              "    }\n",
              "\n",
              "    .dataframe thead th {\n",
              "        text-align: right;\n",
              "    }\n",
              "</style>\n",
              "<table border=\"1\" class=\"dataframe\">\n",
              "  <thead>\n",
              "    <tr style=\"text-align: right;\">\n",
              "      <th></th>\n",
              "      <th>age</th>\n",
              "      <th>sex</th>\n",
              "      <th>cp</th>\n",
              "      <th>trestbps</th>\n",
              "      <th>chol</th>\n",
              "      <th>fbs</th>\n",
              "      <th>restecg</th>\n",
              "      <th>thalach</th>\n",
              "      <th>exang</th>\n",
              "      <th>oldpeak</th>\n",
              "      <th>slope</th>\n",
              "      <th>ca</th>\n",
              "      <th>thal</th>\n",
              "      <th>target</th>\n",
              "    </tr>\n",
              "  </thead>\n",
              "  <tbody>\n",
              "    <tr>\n",
              "      <th>count</th>\n",
              "      <td>876.000000</td>\n",
              "      <td>876.000000</td>\n",
              "      <td>876.000000</td>\n",
              "      <td>876.000000</td>\n",
              "      <td>876.000000</td>\n",
              "      <td>876.000000</td>\n",
              "      <td>876.000000</td>\n",
              "      <td>876.000000</td>\n",
              "      <td>876.000000</td>\n",
              "      <td>876.000000</td>\n",
              "      <td>876.000000</td>\n",
              "      <td>876.000000</td>\n",
              "      <td>876.000000</td>\n",
              "      <td>876.000000</td>\n",
              "    </tr>\n",
              "    <tr>\n",
              "      <th>mean</th>\n",
              "      <td>54.386986</td>\n",
              "      <td>0.681507</td>\n",
              "      <td>1.647260</td>\n",
              "      <td>131.537671</td>\n",
              "      <td>247.310502</td>\n",
              "      <td>0.148402</td>\n",
              "      <td>0.680365</td>\n",
              "      <td>149.656393</td>\n",
              "      <td>0.327626</td>\n",
              "      <td>1.042808</td>\n",
              "      <td>1.456621</td>\n",
              "      <td>0.711187</td>\n",
              "      <td>3.047945</td>\n",
              "      <td>0.513699</td>\n",
              "    </tr>\n",
              "    <tr>\n",
              "      <th>std</th>\n",
              "      <td>9.080076</td>\n",
              "      <td>0.466158</td>\n",
              "      <td>1.432681</td>\n",
              "      <td>17.618748</td>\n",
              "      <td>51.750827</td>\n",
              "      <td>0.355701</td>\n",
              "      <td>0.741043</td>\n",
              "      <td>22.959482</td>\n",
              "      <td>0.469616</td>\n",
              "      <td>1.154897</td>\n",
              "      <td>0.620922</td>\n",
              "      <td>0.998244</td>\n",
              "      <td>1.621282</td>\n",
              "      <td>0.500098</td>\n",
              "    </tr>\n",
              "    <tr>\n",
              "      <th>min</th>\n",
              "      <td>29.000000</td>\n",
              "      <td>0.000000</td>\n",
              "      <td>0.000000</td>\n",
              "      <td>94.000000</td>\n",
              "      <td>126.000000</td>\n",
              "      <td>0.000000</td>\n",
              "      <td>0.000000</td>\n",
              "      <td>71.000000</td>\n",
              "      <td>0.000000</td>\n",
              "      <td>0.000000</td>\n",
              "      <td>0.000000</td>\n",
              "      <td>0.000000</td>\n",
              "      <td>0.000000</td>\n",
              "      <td>0.000000</td>\n",
              "    </tr>\n",
              "    <tr>\n",
              "      <th>25%</th>\n",
              "      <td>47.750000</td>\n",
              "      <td>0.000000</td>\n",
              "      <td>0.000000</td>\n",
              "      <td>120.000000</td>\n",
              "      <td>211.750000</td>\n",
              "      <td>0.000000</td>\n",
              "      <td>0.000000</td>\n",
              "      <td>133.000000</td>\n",
              "      <td>0.000000</td>\n",
              "      <td>0.000000</td>\n",
              "      <td>1.000000</td>\n",
              "      <td>0.000000</td>\n",
              "      <td>2.000000</td>\n",
              "      <td>0.000000</td>\n",
              "    </tr>\n",
              "    <tr>\n",
              "      <th>50%</th>\n",
              "      <td>55.000000</td>\n",
              "      <td>1.000000</td>\n",
              "      <td>2.000000</td>\n",
              "      <td>130.000000</td>\n",
              "      <td>243.000000</td>\n",
              "      <td>0.000000</td>\n",
              "      <td>1.000000</td>\n",
              "      <td>153.000000</td>\n",
              "      <td>0.000000</td>\n",
              "      <td>0.800000</td>\n",
              "      <td>1.000000</td>\n",
              "      <td>0.000000</td>\n",
              "      <td>3.000000</td>\n",
              "      <td>1.000000</td>\n",
              "    </tr>\n",
              "    <tr>\n",
              "      <th>75%</th>\n",
              "      <td>61.000000</td>\n",
              "      <td>1.000000</td>\n",
              "      <td>3.000000</td>\n",
              "      <td>140.000000</td>\n",
              "      <td>275.250000</td>\n",
              "      <td>0.000000</td>\n",
              "      <td>1.000000</td>\n",
              "      <td>166.000000</td>\n",
              "      <td>1.000000</td>\n",
              "      <td>1.600000</td>\n",
              "      <td>2.000000</td>\n",
              "      <td>1.000000</td>\n",
              "      <td>3.000000</td>\n",
              "      <td>1.000000</td>\n",
              "    </tr>\n",
              "    <tr>\n",
              "      <th>max</th>\n",
              "      <td>77.000000</td>\n",
              "      <td>1.000000</td>\n",
              "      <td>4.000000</td>\n",
              "      <td>200.000000</td>\n",
              "      <td>564.000000</td>\n",
              "      <td>1.000000</td>\n",
              "      <td>2.000000</td>\n",
              "      <td>202.000000</td>\n",
              "      <td>1.000000</td>\n",
              "      <td>6.200000</td>\n",
              "      <td>3.000000</td>\n",
              "      <td>4.000000</td>\n",
              "      <td>7.000000</td>\n",
              "      <td>1.000000</td>\n",
              "    </tr>\n",
              "  </tbody>\n",
              "</table>\n",
              "</div>"
            ],
            "text/plain": [
              "              age         sex          cp  ...          ca        thal      target\n",
              "count  876.000000  876.000000  876.000000  ...  876.000000  876.000000  876.000000\n",
              "mean    54.386986    0.681507    1.647260  ...    0.711187    3.047945    0.513699\n",
              "std      9.080076    0.466158    1.432681  ...    0.998244    1.621282    0.500098\n",
              "min     29.000000    0.000000    0.000000  ...    0.000000    0.000000    0.000000\n",
              "25%     47.750000    0.000000    0.000000  ...    0.000000    2.000000    0.000000\n",
              "50%     55.000000    1.000000    2.000000  ...    0.000000    3.000000    1.000000\n",
              "75%     61.000000    1.000000    3.000000  ...    1.000000    3.000000    1.000000\n",
              "max     77.000000    1.000000    4.000000  ...    4.000000    7.000000    1.000000\n",
              "\n",
              "[8 rows x 14 columns]"
            ]
          },
          "metadata": {},
          "execution_count": 7
        }
      ]
    },
    {
      "cell_type": "code",
      "metadata": {
        "_uuid": "718b82039841c137ab7e08a6e79e264643134642",
        "colab": {
          "base_uri": "https://localhost:8080/"
        },
        "id": "WnTQxvlAG-ag",
        "outputId": "393dd3bd-7318-49fe-fe77-b350ced640d1"
      },
      "source": [
        "dataset.info()"
      ],
      "execution_count": null,
      "outputs": [
        {
          "output_type": "stream",
          "name": "stdout",
          "text": [
            "<class 'pandas.core.frame.DataFrame'>\n",
            "RangeIndex: 876 entries, 0 to 875\n",
            "Data columns (total 14 columns):\n",
            " #   Column    Non-Null Count  Dtype  \n",
            "---  ------    --------------  -----  \n",
            " 0   age       876 non-null    int64  \n",
            " 1   sex       876 non-null    int64  \n",
            " 2   cp        876 non-null    int64  \n",
            " 3   trestbps  876 non-null    int64  \n",
            " 4   chol      876 non-null    int64  \n",
            " 5   fbs       876 non-null    int64  \n",
            " 6   restecg   876 non-null    int64  \n",
            " 7   thalach   876 non-null    int64  \n",
            " 8   exang     876 non-null    int64  \n",
            " 9   oldpeak   876 non-null    float64\n",
            " 10  slope     876 non-null    int64  \n",
            " 11  ca        876 non-null    int64  \n",
            " 12  thal      876 non-null    int64  \n",
            " 13  target    876 non-null    int64  \n",
            "dtypes: float64(1), int64(13)\n",
            "memory usage: 95.9 KB\n"
          ]
        }
      ]
    },
    {
      "cell_type": "markdown",
      "metadata": {
        "_uuid": "85b59fefde7c5ecdb50e3b8da0cb719f4e14630f",
        "id": "8g9VLQo5G-aj"
      },
      "source": [
        "#### Analysing columns:"
      ]
    },
    {
      "cell_type": "code",
      "metadata": {
        "_uuid": "5593d1021d54aad598c21f877e57969e6b47f5a8",
        "colab": {
          "base_uri": "https://localhost:8080/"
        },
        "id": "X4p5rDNYG-ak",
        "outputId": "b88c8ef0-a524-4236-8d60-84739c34ce76"
      },
      "source": [
        "info = [\"age\",\"1: male, 0: female\",\"chest pain type, 1: typical angina, 2: atypical angina, 3: non-anginal pain, 4: asymptomatic\",\"resting blood pressure\",\" serum cholestoral in mg/dl\",\"fasting blood sugar > 120 mg/dl\",\"resting electrocardiographic results (values 0,1,2)\",\" maximum heart rate achieved\",\"exercise induced angina\",\"oldpeak = ST depression induced by exercise relative to rest\",\"the slope of the peak exercise ST segment\",\"number of major vessels (0-3) colored by flourosopy\",\"thal: 3 = normal; 6 = fixed defect; 7 = reversable defect\"]\n",
        "\n",
        "for i in range(len(info)):\n",
        "    print(dataset.columns[i]+\":\\t\\t\\t\"+info[i])"
      ],
      "execution_count": null,
      "outputs": [
        {
          "output_type": "stream",
          "name": "stdout",
          "text": [
            "age:\t\t\tage\n",
            "sex:\t\t\t1: male, 0: female\n",
            "cp:\t\t\tchest pain type, 1: typical angina, 2: atypical angina, 3: non-anginal pain, 4: asymptomatic\n",
            "trestbps:\t\t\tresting blood pressure\n",
            "chol:\t\t\t serum cholestoral in mg/dl\n",
            "fbs:\t\t\tfasting blood sugar > 120 mg/dl\n",
            "restecg:\t\t\tresting electrocardiographic results (values 0,1,2)\n",
            "thalach:\t\t\t maximum heart rate achieved\n",
            "exang:\t\t\texercise induced angina\n",
            "oldpeak:\t\t\toldpeak = ST depression induced by exercise relative to rest\n",
            "slope:\t\t\tthe slope of the peak exercise ST segment\n",
            "ca:\t\t\tnumber of major vessels (0-3) colored by flourosopy\n",
            "thal:\t\t\tthal: 3 = normal; 6 = fixed defect; 7 = reversable defect\n"
          ]
        }
      ]
    },
    {
      "cell_type": "markdown",
      "metadata": {
        "_uuid": "6a970312b67b588610a8579ecc2ba4bac0fcee04",
        "id": "v6gWyvsVG-al"
      },
      "source": [
        "#### Analysing the 'target' variable"
      ]
    },
    {
      "cell_type": "code",
      "metadata": {
        "_uuid": "b883243919bd382193ed15e2a90f9b522bf6f1f7",
        "colab": {
          "base_uri": "https://localhost:8080/"
        },
        "id": "4JPbOXjyG-am",
        "outputId": "c76f132f-fa27-4109-cdba-705bdc120a11"
      },
      "source": [
        "dataset[\"target\"].describe()"
      ],
      "execution_count": null,
      "outputs": [
        {
          "output_type": "execute_result",
          "data": {
            "text/plain": [
              "count    876.000000\n",
              "mean       0.513699\n",
              "std        0.500098\n",
              "min        0.000000\n",
              "25%        0.000000\n",
              "50%        1.000000\n",
              "75%        1.000000\n",
              "max        1.000000\n",
              "Name: target, dtype: float64"
            ]
          },
          "metadata": {},
          "execution_count": 10
        }
      ]
    },
    {
      "cell_type": "code",
      "metadata": {
        "_uuid": "9c107b83e0148914826282bf1f0ab28505d577ab",
        "colab": {
          "base_uri": "https://localhost:8080/"
        },
        "id": "8Gpzg_7dG-ao",
        "outputId": "c2497e54-c30c-47ee-c335-f17014d56de2"
      },
      "source": [
        "dataset[\"target\"].unique()"
      ],
      "execution_count": null,
      "outputs": [
        {
          "output_type": "execute_result",
          "data": {
            "text/plain": [
              "array([1, 0])"
            ]
          },
          "metadata": {},
          "execution_count": 11
        }
      ]
    },
    {
      "cell_type": "markdown",
      "metadata": {
        "_uuid": "8c96e97e3f52844e8c4c6ff069f53bfe97c9982d",
        "id": "GM5v3WsOG-ap"
      },
      "source": [
        "#### we can see ,this is a classification problem, with the target variable having values '0' and '1'"
      ]
    },
    {
      "cell_type": "markdown",
      "metadata": {
        "_uuid": "3ae0dfa26e2daf4cfc8e1c6f3b5008d0dab22ec0",
        "id": "_KmRXHNPG-ap"
      },
      "source": [
        "### Checking correlation between columns"
      ]
    },
    {
      "cell_type": "code",
      "metadata": {
        "_uuid": "3059188d3874be2e0c80e13655609ac6a6fc644f",
        "colab": {
          "base_uri": "https://localhost:8080/"
        },
        "id": "-un52qD2G-aq",
        "outputId": "278b9f96-098c-46bb-88a8-aec8f3ef7d03"
      },
      "source": [
        "print(dataset.corr()[\"target\"].abs().sort_values(ascending=False))"
      ],
      "execution_count": null,
      "outputs": [
        {
          "output_type": "stream",
          "name": "stdout",
          "text": [
            "target      1.000000\n",
            "slope       0.325794\n",
            "cp          0.234053\n",
            "exang       0.172419\n",
            "oldpeak     0.171685\n",
            "thalach     0.160413\n",
            "ca          0.142014\n",
            "restecg     0.113596\n",
            "sex         0.101371\n",
            "age         0.090389\n",
            "trestbps    0.050450\n",
            "thal        0.040066\n",
            "chol        0.025512\n",
            "fbs         0.024291\n",
            "Name: target, dtype: float64\n"
          ]
        }
      ]
    },
    {
      "cell_type": "code",
      "metadata": {
        "_uuid": "6e8cf6f86952d94764c1021207fa5b383b2b84bf",
        "id": "7frIYu2lG-ar"
      },
      "source": [
        "#we can seee that most columns are moderately correlated with target, but 'fbs' is very weakly correlated."
      ],
      "execution_count": null,
      "outputs": []
    },
    {
      "cell_type": "markdown",
      "metadata": {
        "_uuid": "40b6c0a9d03bcab78b87bd41c7df3fe1b930547a",
        "id": "FVM1WdClG-as"
      },
      "source": [
        "## Exploratory Data Analysis (EDA)"
      ]
    },
    {
      "cell_type": "markdown",
      "metadata": {
        "_uuid": "41da6ba94903ad6ee64b1ba6a1462815ae603536",
        "id": "eRpiwNuMG-as"
      },
      "source": [
        "### Analysing the target variable:"
      ]
    },
    {
      "cell_type": "code",
      "metadata": {
        "_uuid": "29aa23ccb8e6438688e16346b3474f4cc03bae13",
        "colab": {
          "base_uri": "https://localhost:8080/",
          "height": 331
        },
        "id": "z86ETqCBG-aw",
        "outputId": "eb2b33c0-43bc-4600-8be8-c435dfa1baed"
      },
      "source": [
        "y = dataset[\"target\"]\n",
        "sns.countplot(y)\n",
        "target_temp = dataset.target.value_counts()\n",
        "print(target_temp)"
      ],
      "execution_count": null,
      "outputs": [
        {
          "output_type": "stream",
          "name": "stdout",
          "text": [
            "1    450\n",
            "0    426\n",
            "Name: target, dtype: int64\n"
          ]
        },
        {
          "output_type": "display_data",
          "data": {
            "image/png": "[encoded data removed]",
            "text/plain": [
              "<Figure size 432x288 with 1 Axes>"
            ]
          },
          "metadata": {
            "needs_background": "light"
          }
        }
      ]
    },
    {
      "cell_type": "code",
      "metadata": {
        "_uuid": "5240af8bcd12736900050cea077c713d7d9641df",
        "colab": {
          "base_uri": "https://localhost:8080/"
        },
        "id": "dfzrxJhvG-ax",
        "outputId": "593e9f06-70ad-406d-fd2e-9624d19e2720"
      },
      "source": [
        "print(\"Percentage of patients without heart problems: \"+str(round(target_temp[0]*100/303,2)))\n",
        "print(\"Percentage of patients with heart problems: \"+str(round(target_temp[1]*100/303,2)))\n"
      ],
      "execution_count": null,
      "outputs": [
        {
          "output_type": "stream",
          "name": "stdout",
          "text": [
            "Percentage of patients without heart problems: 140.59\n",
            "Percentage of patients with heart problems: 148.51\n"
          ]
        }
      ]
    },
    {
      "cell_type": "markdown",
      "metadata": {
        "_uuid": "e7de1da221d4ee72e89c365fecfa7d4506f1b184",
        "id": "tqJmgU0_G-ay"
      },
      "source": [
        "### We will analyse 'sex', 'cp', 'fbs', 'restecg', 'exang', 'slope', 'ca' and 'thal' features"
      ]
    },
    {
      "cell_type": "markdown",
      "metadata": {
        "_uuid": "82f9919a1312b53f22980a0071d077e5b0288d90",
        "id": "MJvcVou5G-az"
      },
      "source": [
        "### Analysing the 'Sex' feature"
      ]
    },
    {
      "cell_type": "code",
      "metadata": {
        "_uuid": "07a3fb2f44b82360d0393377029851655bcdcd31",
        "colab": {
          "base_uri": "https://localhost:8080/"
        },
        "id": "a2hYubvIG-az",
        "outputId": "9c1aa72c-d154-441a-864d-8aa63fe79996"
      },
      "source": [
        "dataset[\"sex\"].unique()"
      ],
      "execution_count": null,
      "outputs": [
        {
          "output_type": "execute_result",
          "data": {
            "text/plain": [
              "array([1, 0])"
            ]
          },
          "metadata": {},
          "execution_count": 16
        }
      ]
    },
    {
      "cell_type": "code",
      "metadata": {
        "_uuid": "5d10e6c167251e6d3b1b82a06159da234eeef721",
        "colab": {
          "base_uri": "https://localhost:8080/",
          "height": 296
        },
        "id": "v3944-YLG-a1",
        "outputId": "19789217-bbc8-4a4b-efb8-f5fa2d0817e0"
      },
      "source": [
        "sns.barplot(dataset[\"sex\"],y)"
      ],
      "execution_count": null,
      "outputs": [
        {
          "output_type": "execute_result",
          "data": {
            "text/plain": [
              "<matplotlib.axes._subplots.AxesSubplot at 0x7f3916326950>"
            ]
          },
          "metadata": {},
          "execution_count": 17
        },
        {
          "output_type": "display_data",
          "data": {
            "image/png": "[encoded data removed]",
            "text/plain": [
              "<Figure size 432x288 with 1 Axes>"
            ]
          },
          "metadata": {
            "needs_background": "light"
          }
        }
      ]
    },
    {
      "cell_type": "markdown",
      "metadata": {
        "_uuid": "31142d6b72ae034487a088860fe9c7ff85cf7ca2",
        "id": "eJ0IInNuG-a1"
      },
      "source": [
        "##### We can notice that females are more likely to have heart problems than males"
      ]
    },
    {
      "cell_type": "markdown",
      "metadata": {
        "_uuid": "f7bbd747b02746eadfa2b525544509c8545ac1af",
        "id": "pdqiQnsyG-a2"
      },
      "source": [
        "### Analysing the 'Chest Pain Type' feature"
      ]
    },
    {
      "cell_type": "code",
      "metadata": {
        "_uuid": "7c795d4a86ee05d58e10a412add90065afbd4a70",
        "colab": {
          "base_uri": "https://localhost:8080/"
        },
        "id": "8Rhd6CTrG-a3",
        "outputId": "eeead1ca-cd01-467b-c867-31b195fca3a0"
      },
      "source": [
        "dataset[\"cp\"].unique()"
      ],
      "execution_count": null,
      "outputs": [
        {
          "output_type": "execute_result",
          "data": {
            "text/plain": [
              "array([3, 2, 1, 0, 4])"
            ]
          },
          "metadata": {},
          "execution_count": 97
        }
      ]
    },
    {
      "cell_type": "code",
      "metadata": {
        "_uuid": "56d6ed2b3d8d20a61814980cd459502b452d14c1",
        "colab": {
          "base_uri": "https://localhost:8080/",
          "height": 302
        },
        "id": "gIKNMoubG-a4",
        "outputId": "3c9af386-2439-4869-e006-d8ac3cce7b42"
      },
      "source": [
        "sns.barplot(dataset[\"cp\"],y)"
      ],
      "execution_count": null,
      "outputs": [
        {
          "output_type": "execute_result",
          "data": {
            "text/plain": [
              "<matplotlib.axes._subplots.AxesSubplot at 0x7f3899a4c350>"
            ]
          },
          "metadata": {},
          "execution_count": 98
        },
        {
          "output_type": "display_data",
          "data": {
            "image/png": "[encoded data removed]",
            "text/plain": [
              "<Figure size 432x288 with 1 Axes>"
            ]
          },
          "metadata": {
            "needs_background": "light"
          }
        }
      ]
    },
    {
      "cell_type": "markdown",
      "metadata": {
        "_uuid": "510c7c3a7386a7e308cc6052025dc806fad61534",
        "id": "r2Ze7VbNG-a5"
      },
      "source": [
        "##### We notice, that chest pain of '0', i.e. the ones with typical angina are much less likely to have heart problems"
      ]
    },
    {
      "cell_type": "code",
      "metadata": {
        "id": "bXkjF2xXRwUc"
      },
      "source": [
        ""
      ],
      "execution_count": null,
      "outputs": []
    },
    {
      "cell_type": "markdown",
      "metadata": {
        "_uuid": "bb50bd1cedd31d29683e2411439368aa1390e7ef",
        "id": "zN8_F0NvG-a5"
      },
      "source": [
        "### Analysing the FBS feature"
      ]
    },
    {
      "cell_type": "code",
      "metadata": {
        "_uuid": "55f9ca01da5294b5404f3eb14d202ae90e0ea1bf",
        "colab": {
          "base_uri": "https://localhost:8080/"
        },
        "id": "8u2j2VVDG-a6",
        "outputId": "5f78b382-6709-4e9f-861d-eb25269ecd97"
      },
      "source": [
        "dataset[\"fbs\"].describe()"
      ],
      "execution_count": null,
      "outputs": [
        {
          "output_type": "execute_result",
          "data": {
            "text/plain": [
              "count    876.000000\n",
              "mean       0.148402\n",
              "std        0.355701\n",
              "min        0.000000\n",
              "25%        0.000000\n",
              "50%        0.000000\n",
              "75%        0.000000\n",
              "max        1.000000\n",
              "Name: fbs, dtype: float64"
            ]
          },
          "metadata": {},
          "execution_count": 20
        }
      ]
    },
    {
      "cell_type": "code",
      "metadata": {
        "_uuid": "43d491d311a8b96a6a9cbecbeff87f577584cd3a",
        "colab": {
          "base_uri": "https://localhost:8080/"
        },
        "id": "SNmRkDO2G-a6",
        "outputId": "ea4632e5-557e-44a7-bd90-4e777dcf25b5"
      },
      "source": [
        "dataset[\"fbs\"].unique()"
      ],
      "execution_count": null,
      "outputs": [
        {
          "output_type": "execute_result",
          "data": {
            "text/plain": [
              "array([1, 0])"
            ]
          },
          "metadata": {},
          "execution_count": 21
        }
      ]
    },
    {
      "cell_type": "code",
      "metadata": {
        "_uuid": "90509dcee97df858115131c771e69347a044aafb",
        "colab": {
          "base_uri": "https://localhost:8080/",
          "height": 302
        },
        "id": "8xcQ8DYMG-a7",
        "outputId": "0dadc6de-9e6f-4d00-8cae-c8307aafcab8"
      },
      "source": [
        "sns.barplot(dataset[\"fbs\"],y)"
      ],
      "execution_count": null,
      "outputs": [
        {
          "output_type": "execute_result",
          "data": {
            "text/plain": [
              "<matplotlib.axes._subplots.AxesSubplot at 0x7f389995dd90>"
            ]
          },
          "metadata": {},
          "execution_count": 99
        },
        {
          "output_type": "display_data",
          "data": {
            "image/png": "[encoded data removed]",
            "text/plain": [
              "<Figure size 432x288 with 1 Axes>"
            ]
          },
          "metadata": {
            "needs_background": "light"
          }
        }
      ]
    },
    {
      "cell_type": "markdown",
      "metadata": {
        "_uuid": "5a8d6384c879ed40eddefed03b16607bc02deecf",
        "id": "2tcR-KDjG-a8"
      },
      "source": [
        "### Analysing the restecg feature"
      ]
    },
    {
      "cell_type": "code",
      "metadata": {
        "_uuid": "b12fcc535fe07bc58aa99e97ec9b4e0b01f30a8d",
        "colab": {
          "base_uri": "https://localhost:8080/"
        },
        "id": "vwCHY2SMG-a8",
        "outputId": "c5f0ac03-c3e0-40c9-cab7-e5912d0364ad"
      },
      "source": [
        "dataset[\"restecg\"].unique()"
      ],
      "execution_count": null,
      "outputs": [
        {
          "output_type": "execute_result",
          "data": {
            "text/plain": [
              "array([0, 1, 2])"
            ]
          },
          "metadata": {},
          "execution_count": 23
        }
      ]
    },
    {
      "cell_type": "code",
      "metadata": {
        "_uuid": "ccae9489c2b6e63adb87cef83d367f49ef08a133",
        "colab": {
          "base_uri": "https://localhost:8080/",
          "height": 302
        },
        "id": "1iK7aQsqG-a9",
        "outputId": "8ff7f7ad-142d-4b93-a245-c98cfa392342"
      },
      "source": [
        "sns.barplot(dataset[\"restecg\"],y)"
      ],
      "execution_count": null,
      "outputs": [
        {
          "output_type": "execute_result",
          "data": {
            "text/plain": [
              "<matplotlib.axes._subplots.AxesSubplot at 0x7f3899933ed0>"
            ]
          },
          "metadata": {},
          "execution_count": 100
        },
        {
          "output_type": "display_data",
          "data": {
            "image/png": "[encoded data removed]",
            "text/plain": [
              "<Figure size 432x288 with 1 Axes>"
            ]
          },
          "metadata": {
            "needs_background": "light"
          }
        }
      ]
    },
    {
      "cell_type": "markdown",
      "metadata": {
        "_uuid": "84cf1d3ca8d3507765bbb3763834c3795380f1bf",
        "id": "h6tSCRVfG-a-"
      },
      "source": [
        "##### We realize that people with restecg '1' and '0' are much more likely to have a heart disease than with restecg '2'"
      ]
    },
    {
      "cell_type": "markdown",
      "metadata": {
        "_uuid": "efaf4d85a6837cf43bd5b33d4eaaf193bc6fedc1",
        "id": "tFz58ZQuG-a-"
      },
      "source": [
        "### Analysing the 'exang' feature"
      ]
    },
    {
      "cell_type": "code",
      "metadata": {
        "_uuid": "53dd2985ea50aa6f9c9e5931050b4ef7b7aa609d",
        "colab": {
          "base_uri": "https://localhost:8080/"
        },
        "id": "t1ybCISrG-a-",
        "outputId": "f23a9ca6-e3ef-449a-8b71-5bba7b5b78f5"
      },
      "source": [
        "dataset[\"exang\"].unique()"
      ],
      "execution_count": null,
      "outputs": [
        {
          "output_type": "execute_result",
          "data": {
            "text/plain": [
              "array([0, 1])"
            ]
          },
          "metadata": {},
          "execution_count": 25
        }
      ]
    },
    {
      "cell_type": "code",
      "metadata": {
        "_uuid": "237a60a2a11dab86e50cafcee4ec47df752876a1",
        "colab": {
          "base_uri": "https://localhost:8080/",
          "height": 302
        },
        "id": "mXOaWnBcG-a_",
        "outputId": "03ace587-e90b-4915-a04f-dfc14388dd5a"
      },
      "source": [
        "sns.barplot(dataset[\"exang\"],y)"
      ],
      "execution_count": null,
      "outputs": [
        {
          "output_type": "execute_result",
          "data": {
            "text/plain": [
              "<matplotlib.axes._subplots.AxesSubplot at 0x7f3899933b10>"
            ]
          },
          "metadata": {},
          "execution_count": 101
        },
        {
          "output_type": "display_data",
          "data": {
            "image/png": "[encoded data removed]",
            "text/plain": [
              "<Figure size 432x288 with 1 Axes>"
            ]
          },
          "metadata": {
            "needs_background": "light"
          }
        }
      ]
    },
    {
      "cell_type": "markdown",
      "metadata": {
        "_uuid": "f442f08734344740ebc225af7a565bcb91962dca",
        "id": "fmVSqcRXG-bA"
      },
      "source": [
        "##### People with exang=1 i.e. Exercise induced angina are much less likely to have heart problems"
      ]
    },
    {
      "cell_type": "markdown",
      "metadata": {
        "_uuid": "4ce2d649ededc2126324cd07ce430b005697e288",
        "id": "RZwZl0OuG-bA"
      },
      "source": [
        "### Analysing the Slope feature"
      ]
    },
    {
      "cell_type": "code",
      "metadata": {
        "_uuid": "e1e148d25967c36d2bb5fbfb802c70dae93f8a4f",
        "colab": {
          "base_uri": "https://localhost:8080/"
        },
        "id": "JfUwGhC2G-bB",
        "outputId": "48dd84e4-59a7-434d-a34c-2ed45db09aff"
      },
      "source": [
        "dataset[\"slope\"].unique()"
      ],
      "execution_count": null,
      "outputs": [
        {
          "output_type": "execute_result",
          "data": {
            "text/plain": [
              "array([0, 2, 1, 3])"
            ]
          },
          "metadata": {},
          "execution_count": 27
        }
      ]
    },
    {
      "cell_type": "code",
      "metadata": {
        "_uuid": "beaa943c166b3c550fe357e6e937dbda46b707c9",
        "colab": {
          "base_uri": "https://localhost:8080/",
          "height": 302
        },
        "id": "_KoGxzFlG-bB",
        "outputId": "409074a2-596c-4b56-bbb3-74c33142d48f"
      },
      "source": [
        "sns.barplot(dataset[\"slope\"],y)"
      ],
      "execution_count": null,
      "outputs": [
        {
          "output_type": "execute_result",
          "data": {
            "text/plain": [
              "<matplotlib.axes._subplots.AxesSubplot at 0x7f389987f8d0>"
            ]
          },
          "metadata": {},
          "execution_count": 102
        },
        {
          "output_type": "display_data",
          "data": {
            "image/png": "[encoded data removed]",
            "text/plain": [
              "<Figure size 432x288 with 1 Axes>"
            ]
          },
          "metadata": {
            "needs_background": "light"
          }
        }
      ]
    },
    {
      "cell_type": "markdown",
      "metadata": {
        "_uuid": "3141a4a203dd433dd7af6c02c1d0b44d048656a0",
        "id": "6eYkIxMKG-bC"
      },
      "source": [
        "##### We observe, that Slope '2' causes heart pain much more than Slope '0' and '1'"
      ]
    },
    {
      "cell_type": "markdown",
      "metadata": {
        "_uuid": "c0b39456274f1e0f402704714494161ddc55f16a",
        "id": "dUZkgav9G-bD"
      },
      "source": [
        "### Analysing the 'ca' feature"
      ]
    },
    {
      "cell_type": "code",
      "metadata": {
        "_uuid": "50db41d7e9ebe645bc7c6fcbaf26194176c274db",
        "id": "TWyrgd7tG-bD"
      },
      "source": [
        "#number of major vessels (0-3) colored by flourosopy"
      ],
      "execution_count": null,
      "outputs": []
    },
    {
      "cell_type": "code",
      "metadata": {
        "_uuid": "a3b7ed6661d24dc399963afbca1e08d79243b431",
        "colab": {
          "base_uri": "https://localhost:8080/"
        },
        "id": "mfb9YqPBG-bE",
        "outputId": "e18dc62b-9230-4b1e-97a4-4eab48f7cd81"
      },
      "source": [
        "dataset[\"ca\"].unique()"
      ],
      "execution_count": null,
      "outputs": [
        {
          "output_type": "execute_result",
          "data": {
            "text/plain": [
              "array([0, 2, 1, 3, 4])"
            ]
          },
          "metadata": {},
          "execution_count": 30
        }
      ]
    },
    {
      "cell_type": "code",
      "metadata": {
        "_uuid": "f463859906d0287c68152ebe3cadc241e569802c",
        "colab": {
          "base_uri": "https://localhost:8080/",
          "height": 302
        },
        "id": "F1oymmPiG-bE",
        "outputId": "2a3a47b3-cdfe-4a93-bef6-5d7959c22b3c"
      },
      "source": [
        "sns.countplot(dataset[\"ca\"])"
      ],
      "execution_count": null,
      "outputs": [
        {
          "output_type": "execute_result",
          "data": {
            "text/plain": [
              "<matplotlib.axes._subplots.AxesSubplot at 0x7f38997efa90>"
            ]
          },
          "metadata": {},
          "execution_count": 103
        },
        {
          "output_type": "display_data",
          "data": {
            "image/png": "[encoded data removed]",
            "text/plain": [
              "<Figure size 432x288 with 1 Axes>"
            ]
          },
          "metadata": {
            "needs_background": "light"
          }
        }
      ]
    },
    {
      "cell_type": "code",
      "metadata": {
        "_uuid": "81483318bc63c7434eeb75515483c329abcf15e3",
        "colab": {
          "base_uri": "https://localhost:8080/",
          "height": 302
        },
        "id": "RdzKxEJdG-bF",
        "outputId": "393915f0-babb-45c5-a6da-621bbb124bbb"
      },
      "source": [
        "sns.barplot(dataset[\"ca\"],y)"
      ],
      "execution_count": null,
      "outputs": [
        {
          "output_type": "execute_result",
          "data": {
            "text/plain": [
              "<matplotlib.axes._subplots.AxesSubplot at 0x7f38997c8c50>"
            ]
          },
          "metadata": {},
          "execution_count": 104
        },
        {
          "output_type": "display_data",
          "data": {
            "image/png": "[encoded data removed]",
            "text/plain": [
              "<Figure size 432x288 with 1 Axes>"
            ]
          },
          "metadata": {
            "needs_background": "light"
          }
        }
      ]
    },
    {
      "cell_type": "markdown",
      "metadata": {
        "_uuid": "87671e11e19372848af999bb17d061f577eb08b5",
        "id": "pY_JHJwyG-bF"
      },
      "source": [
        "##### ca=4 has astonishingly large number of heart patients"
      ]
    },
    {
      "cell_type": "code",
      "metadata": {
        "_uuid": "b4b057d99c7c3cdbe9e304a75b399f214f352aba",
        "id": "VXsNt6LaG-bG"
      },
      "source": [
        "### Analysing the 'thal' feature"
      ],
      "execution_count": null,
      "outputs": []
    },
    {
      "cell_type": "code",
      "metadata": {
        "_uuid": "16eaf9a5f7433be2028369818aa54e2bf01e544e",
        "colab": {
          "base_uri": "https://localhost:8080/"
        },
        "id": "Bs5qbNN4G-bG",
        "outputId": "d7accdfd-8f05-4a2f-9037-ac127dd3e2ab"
      },
      "source": [
        "dataset[\"thal\"].unique()"
      ],
      "execution_count": null,
      "outputs": [
        {
          "output_type": "execute_result",
          "data": {
            "text/plain": [
              "array([1, 2, 3, 0, 7, 6])"
            ]
          },
          "metadata": {},
          "execution_count": 34
        }
      ]
    },
    {
      "cell_type": "code",
      "metadata": {
        "_uuid": "08947d9c4b05d68b2fe5ae70e33566063c44f8d4",
        "colab": {
          "base_uri": "https://localhost:8080/",
          "height": 302
        },
        "id": "AlByV2fgG-bH",
        "outputId": "f336881a-e507-4ad5-b3a8-56a2fcddac9e"
      },
      "source": [
        "sns.barplot(dataset[\"thal\"],y)"
      ],
      "execution_count": null,
      "outputs": [
        {
          "output_type": "execute_result",
          "data": {
            "text/plain": [
              "<matplotlib.axes._subplots.AxesSubplot at 0x7f3899d1cb90>"
            ]
          },
          "metadata": {},
          "execution_count": 105
        },
        {
          "output_type": "display_data",
          "data": {
            "image/png": "[encoded data removed]",
            "text/plain": [
              "<Figure size 432x288 with 1 Axes>"
            ]
          },
          "metadata": {
            "needs_background": "light"
          }
        }
      ]
    },
    {
      "cell_type": "code",
      "metadata": {
        "_uuid": "dc84bb1643cbed20e8ac5980db59ffd54d5b581c",
        "colab": {
          "base_uri": "https://localhost:8080/",
          "height": 296
        },
        "id": "L3NvVbmxG-bH",
        "outputId": "a60fffb8-e671-49cd-9931-7c6394c26432"
      },
      "source": [
        "sns.distplot(dataset[\"thal\"])"
      ],
      "execution_count": null,
      "outputs": [
        {
          "output_type": "execute_result",
          "data": {
            "text/plain": [
              "<matplotlib.axes._subplots.AxesSubplot at 0x7f3915a47b50>"
            ]
          },
          "metadata": {},
          "execution_count": 36
        },
        {
          "output_type": "display_data",
          "data": {
            "image/png": "[encoded data removed]",
            "text/plain": [
              "<Figure size 432x288 with 1 Axes>"
            ]
          },
          "metadata": {
            "needs_background": "light"
          }
        }
      ]
    },
    {
      "cell_type": "markdown",
      "metadata": {
        "_uuid": "d1c95f2180e264978c85703ece34898dab4d522b",
        "id": "9ZO1sHA7G-bI"
      },
      "source": [
        "## IV. Train Test split"
      ]
    },
    {
      "cell_type": "code",
      "metadata": {
        "_uuid": "829fcda5b63e1b9f7ecb7762e8ca617166533aca",
        "id": "HM4zGj1qG-bI"
      },
      "source": [
        "from sklearn.model_selection import train_test_split\n",
        "\n",
        "predictors = dataset.drop(\"target\",axis=1)\n",
        "target = dataset[\"target\"]\n",
        "\n",
        "X_train,X_test,Y_train,Y_test = train_test_split(predictors,target,test_size=0.20,random_state=0)"
      ],
      "execution_count": null,
      "outputs": []
    },
    {
      "cell_type": "code",
      "metadata": {
        "_uuid": "7a74842015c2f193d16caa4fa25e2c4cbf1940f8",
        "id": "bW8ch529G-bJ",
        "colab": {
          "base_uri": "https://localhost:8080/"
        },
        "outputId": "da90d1ad-2507-44a1-bf77-0c0b7a6ac644"
      },
      "source": [
        "X_train.shape"
      ],
      "execution_count": null,
      "outputs": [
        {
          "output_type": "execute_result",
          "data": {
            "text/plain": [
              "(648, 13)"
            ]
          },
          "metadata": {},
          "execution_count": 107
        }
      ]
    },
    {
      "cell_type": "code",
      "metadata": {
        "_uuid": "1f777652df4521deb877dac4d5d635d8cd35b279",
        "colab": {
          "base_uri": "https://localhost:8080/"
        },
        "id": "H__MyGoAG-bJ",
        "outputId": "eefdec93-10b9-408e-e668-5c20492bdab9"
      },
      "source": [
        "X_test.shape"
      ],
      "execution_count": null,
      "outputs": [
        {
          "output_type": "execute_result",
          "data": {
            "text/plain": [
              "(162, 13)"
            ]
          },
          "metadata": {},
          "execution_count": 108
        }
      ]
    },
    {
      "cell_type": "code",
      "metadata": {
        "_uuid": "028c968a076840657faf7dbc3bfee9fe7b5ca45a",
        "colab": {
          "base_uri": "https://localhost:8080/"
        },
        "id": "K_b28ZP9G-bK",
        "outputId": "33d380f8-7c22-46ad-fc48-13b418c08099"
      },
      "source": [
        "Y_train.shape"
      ],
      "execution_count": null,
      "outputs": [
        {
          "output_type": "execute_result",
          "data": {
            "text/plain": [
              "(700,)"
            ]
          },
          "metadata": {},
          "execution_count": 40
        }
      ]
    },
    {
      "cell_type": "code",
      "metadata": {
        "_uuid": "eb6857dfc18da52dae38bec95d20106f39136e61",
        "colab": {
          "base_uri": "https://localhost:8080/"
        },
        "id": "sM8UwBdJG-bL",
        "outputId": "bf1513bf-8f48-4505-b56e-f57754af5e82"
      },
      "source": [
        "Y_test.shape"
      ],
      "execution_count": null,
      "outputs": [
        {
          "output_type": "execute_result",
          "data": {
            "text/plain": [
              "(176,)"
            ]
          },
          "metadata": {},
          "execution_count": 41
        }
      ]
    },
    {
      "cell_type": "markdown",
      "metadata": {
        "_uuid": "3b4f28488a92917f26e9876c1880295ec9c077ed",
        "id": "C80ke8mtG-bL"
      },
      "source": [
        "## V. Model Fitting"
      ]
    },
    {
      "cell_type": "code",
      "metadata": {
        "_uuid": "fe363c1be8335a48a4444660db5fa6bd0a24b71a",
        "id": "7V6ZmPSPG-bM"
      },
      "source": [
        "from sklearn.metrics import accuracy_score"
      ],
      "execution_count": null,
      "outputs": []
    },
    {
      "cell_type": "markdown",
      "metadata": {
        "_uuid": "afa6b322cbc225f3353bd295aea24fe5fbbb78fe",
        "id": "i7SFdtgnG-bM"
      },
      "source": [
        "### using Logistic Regression"
      ]
    },
    {
      "cell_type": "code",
      "metadata": {
        "_uuid": "9aea2f597203ccf38cd0d67ae58bff6e163dea1c",
        "id": "T7eh9ryVG-bM",
        "colab": {
          "base_uri": "https://localhost:8080/"
        },
        "outputId": "7ffd3c72-9849-4e77-a8d6-04fca9979646"
      },
      "source": [
        "from sklearn.linear_model import LogisticRegression\n",
        "\n",
        "\n",
        "\n",
        "\n",
        "lr = LogisticRegression()\n",
        "\n",
        "lr.fit(X_train,Y_train)\n",
        "\n",
        "Y_pred_lr = lr.predict(X_test)\n",
        "precision=precision_score(Y_test,Y_pred_lr)\n",
        "print(\"precision: \",precision)\n",
        "recall=recall_score(Y_test,Y_pred_lr)\n",
        "print(\"Recall : \",recall)\n",
        "print(\"F score: \",(2*precision*recall)/(precision+recall))\n",
        "confusionmat=confusion_matrix(Y_test,Y_pred_lr);\n",
        "print(\"confusion matrix is : \" ,confusionmat)\n"
      ],
      "execution_count": null,
      "outputs": [
        {
          "output_type": "stream",
          "name": "stdout",
          "text": [
            "precision:  0.6224489795918368\n",
            "Recall :  0.7011494252873564\n",
            "F score:  0.6594594594594595\n",
            "confusion matrix is :  [[52 37]\n",
            " [26 61]]\n"
          ]
        }
      ]
    },
    {
      "cell_type": "code",
      "metadata": {
        "_uuid": "58fb833d1c74355ebdafe926968632942f377421",
        "colab": {
          "base_uri": "https://localhost:8080/"
        },
        "id": "v9mtkdR_G-bN",
        "outputId": "535561a0-0f94-4819-e847-e161b80daf05"
      },
      "source": [
        "Y_pred_lr.shape"
      ],
      "execution_count": null,
      "outputs": [
        {
          "output_type": "execute_result",
          "data": {
            "text/plain": [
              "(176,)"
            ]
          },
          "metadata": {},
          "execution_count": 44
        }
      ]
    },
    {
      "cell_type": "code",
      "metadata": {
        "_uuid": "ee4cba838316adf863f8daf131d36a970d36b839",
        "colab": {
          "base_uri": "https://localhost:8080/"
        },
        "id": "6T9KytWuG-bO",
        "outputId": "e1c384c3-bd31-4096-879c-0b4960ebbadb"
      },
      "source": [
        "score_lr = round(accuracy_score(Y_pred_lr,Y_test)*100,2)\n",
        "\n",
        "print(\"The accuracy score achieved using Logistic Regression is: \"+str(score_lr)+\" %\")"
      ],
      "execution_count": null,
      "outputs": [
        {
          "output_type": "stream",
          "name": "stdout",
          "text": [
            "The accuracy score achieved using Logistic Regression is: 64.2 %\n"
          ]
        }
      ]
    },
    {
      "cell_type": "markdown",
      "metadata": {
        "id": "-jTX4RLNwxJQ"
      },
      "source": [
        "The accuracy score achieved using Logistic Regression is: 85.25 %"
      ]
    },
    {
      "cell_type": "markdown",
      "metadata": {
        "_uuid": "4f92fceb9584ae03d3ab370ee11899cb287be690",
        "id": "6ffXvrCtG-bO"
      },
      "source": [
        "### Naive Bayes"
      ]
    },
    {
      "cell_type": "code",
      "metadata": {
        "_uuid": "ffcdab99b4108902547f0179a242a9757078dc68",
        "id": "4oaqjkFpG-bP",
        "colab": {
          "base_uri": "https://localhost:8080/"
        },
        "outputId": "374b8806-5223-4abd-d6df-b87ead684cb1"
      },
      "source": [
        "from sklearn.naive_bayes import GaussianNB\n",
        "\n",
        "nb = GaussianNB()\n",
        "\n",
        "nb.fit(X_train,Y_train)\n",
        "\n",
        "Y_pred_nb = nb.predict(X_test)\n",
        "precision=precision_score(Y_test,Y_pred_nb)\n",
        "print(\"precision: \",precision)\n",
        "recall=recall_score(Y_test,Y_pred_nb)\n",
        "print(\"Recall : \",recall)\n",
        "print(\"F score: \",(2*precision*recall)/(precision+recall))\n",
        "confusionmat=confusion_matrix(Y_test,Y_pred_nb);\n",
        "print(\"confusion matrix is : \" ,confusionmat)"
      ],
      "execution_count": null,
      "outputs": [
        {
          "output_type": "stream",
          "name": "stdout",
          "text": [
            "precision:  0.6095238095238096\n",
            "Recall :  0.735632183908046\n",
            "F score:  0.6666666666666666\n",
            "confusion matrix is :  [[48 41]\n",
            " [23 64]]\n"
          ]
        }
      ]
    },
    {
      "cell_type": "code",
      "metadata": {
        "_uuid": "9109059d06e4c92494451b3cdab0bbb5a1816072",
        "colab": {
          "base_uri": "https://localhost:8080/"
        },
        "id": "wY87NWBWG-bP",
        "outputId": "9024f6f5-42d1-495c-8864-7d405c0ac9ce"
      },
      "source": [
        "Y_pred_nb.shape"
      ],
      "execution_count": null,
      "outputs": [
        {
          "output_type": "execute_result",
          "data": {
            "text/plain": [
              "(176,)"
            ]
          },
          "metadata": {},
          "execution_count": 47
        }
      ]
    },
    {
      "cell_type": "code",
      "metadata": {
        "_uuid": "e8f8f55db061ada0b669ffa46e9ecc745fcda1ae",
        "colab": {
          "base_uri": "https://localhost:8080/"
        },
        "id": "Blt3ipayG-bQ",
        "outputId": "31e452e4-accf-4b8c-f35c-6a8d7b34d914"
      },
      "source": [
        "score_nb = round(accuracy_score(Y_pred_nb,Y_test)*100,2)\n",
        "\n",
        "print(\"The accuracy score achieved using Naive Bayes is: \"+str(score_nb)+\" %\")"
      ],
      "execution_count": null,
      "outputs": [
        {
          "output_type": "stream",
          "name": "stdout",
          "text": [
            "The accuracy score achieved using Naive Bayes is: 63.64 %\n"
          ]
        }
      ]
    },
    {
      "cell_type": "markdown",
      "metadata": {
        "id": "pDWxKxa7xHrC"
      },
      "source": [
        "The accuracy score achieved using Naive Bayes is: 85.25 %"
      ]
    },
    {
      "cell_type": "markdown",
      "metadata": {
        "_uuid": "2af8b010893284bae0d6cccf66ccfda646e7ca58",
        "id": "SmfX6sEnG-bQ"
      },
      "source": [
        "### SVM"
      ]
    },
    {
      "cell_type": "code",
      "metadata": {
        "_uuid": "f1936ece7b76b67e552758a4c80e9421bffe0bc2",
        "id": "zRtLPb95G-bR",
        "colab": {
          "base_uri": "https://localhost:8080/"
        },
        "outputId": "6cbbd191-728f-4ddc-f899-d1e96f2364dc"
      },
      "source": [
        "from sklearn import svm\n",
        "\n",
        "sv = svm.SVC(kernel='linear')\n",
        "sv.fit(X_train, Y_train)\n",
        "Y_pred_svm = sv.predict(X_test)\n",
        "precision=precision_score(Y_test,Y_pred_svm)\n",
        "print(\"precision: \",precision)\n",
        "recall=recall_score(Y_test,Y_pred_svm)\n",
        "print(\"Recall : \",recall)\n",
        "print(\"F score: \",(2*precision*recall)/(precision+recall))\n",
        "confusionmat=confusion_matrix(Y_test,Y_pred_svm);\n",
        "print(\"confusion matrix is : \" ,confusionmat)"
      ],
      "execution_count": null,
      "outputs": [
        {
          "output_type": "stream",
          "name": "stdout",
          "text": [
            "precision:  0.6951219512195121\n",
            "Recall :  0.6551724137931034\n",
            "F score:  0.6745562130177514\n",
            "confusion matrix is :  [[64 25]\n",
            " [30 57]]\n"
          ]
        }
      ]
    },
    {
      "cell_type": "code",
      "metadata": {
        "_uuid": "36f60f104264d44760705b9c802504f426e15592",
        "colab": {
          "base_uri": "https://localhost:8080/"
        },
        "id": "QIpU6krHG-bR",
        "outputId": "22dd19b9-7616-49bf-f386-03b0a2a22764"
      },
      "source": [
        "Y_pred_svm.shape"
      ],
      "execution_count": null,
      "outputs": [
        {
          "output_type": "execute_result",
          "data": {
            "text/plain": [
              "(176,)"
            ]
          },
          "metadata": {},
          "execution_count": 50
        }
      ]
    },
    {
      "cell_type": "code",
      "metadata": {
        "_uuid": "f5a73bca6721f42b3983c328fd475390ba9bc4d3",
        "colab": {
          "base_uri": "https://localhost:8080/"
        },
        "id": "kPLAGijCG-bS",
        "outputId": "f5a34679-e6b1-4fe4-c249-9cc6f8f0b9aa"
      },
      "source": [
        "score_svm = round(accuracy_score(Y_pred_svm,Y_test)*100,2)\n",
        "\n",
        "print(\"The accuracy score achieved using Linear SVM is: \"+str(score_svm)+\" %\")"
      ],
      "execution_count": null,
      "outputs": [
        {
          "output_type": "stream",
          "name": "stdout",
          "text": [
            "The accuracy score achieved using Linear SVM is: 68.75 %\n"
          ]
        }
      ]
    },
    {
      "cell_type": "markdown",
      "metadata": {
        "id": "j2qp2zU6xh-K"
      },
      "source": [
        "The accuracy score achieved using Linear SVM is: 81.97 %"
      ]
    },
    {
      "cell_type": "markdown",
      "metadata": {
        "_uuid": "4e26d165b57f3f7882570964f1c2dc4a548404de",
        "id": "v4DJs7FWG-bS"
      },
      "source": [
        "### K Nearest Neighbors"
      ]
    },
    {
      "cell_type": "code",
      "metadata": {
        "_uuid": "286352867c53d5fb7dac2fc9bf4b2ac58a466ad0",
        "id": "vIYx_qiZG-bT",
        "colab": {
          "base_uri": "https://localhost:8080/"
        },
        "outputId": "777de07e-295c-4975-925e-865a8275be62"
      },
      "source": [
        "from sklearn.neighbors import KNeighborsClassifier\n",
        "\n",
        "knn = KNeighborsClassifier(n_neighbors=7)\n",
        "knn.fit(X_train,Y_train)\n",
        "Y_pred_knn=knn.predict(X_test)\n",
        "precision=precision_score(Y_test,Y_pred_knn)\n",
        "print(\"precision: \",precision)\n",
        "recall=recall_score(Y_test,Y_pred_knn)\n",
        "print(\"Recall : \",recall)\n",
        "print(\"F score: \",(2*precision*recall)/(precision+recall))\n",
        "confusionmat=confusion_matrix(Y_test,Y_pred_knn);\n",
        "print(\"confusion matrix is : \" ,confusionmat)"
      ],
      "execution_count": null,
      "outputs": [
        {
          "output_type": "stream",
          "name": "stdout",
          "text": [
            "precision:  0.39325842696629215\n",
            "Recall :  0.40229885057471265\n",
            "F score:  0.39772727272727276\n",
            "confusion matrix is :  [[35 54]\n",
            " [52 35]]\n"
          ]
        }
      ]
    },
    {
      "cell_type": "code",
      "metadata": {
        "_uuid": "bccb7c1fcec36dd2eb7eb222f49604029adec2b4",
        "colab": {
          "base_uri": "https://localhost:8080/"
        },
        "id": "3coTlPRtG-bT",
        "outputId": "52363f49-4bc3-48c8-8a08-572ae1e85712"
      },
      "source": [
        "Y_pred_knn.shape"
      ],
      "execution_count": null,
      "outputs": [
        {
          "output_type": "execute_result",
          "data": {
            "text/plain": [
              "(176,)"
            ]
          },
          "metadata": {},
          "execution_count": 53
        }
      ]
    },
    {
      "cell_type": "code",
      "metadata": {
        "_uuid": "dda4e8f8f18f96557cdd38cee177de0456db5f45",
        "colab": {
          "base_uri": "https://localhost:8080/"
        },
        "id": "s7YOT79VG-bT",
        "outputId": "930f08db-68ec-4d05-a26d-4b7c2826bdd1"
      },
      "source": [
        "score_knn = round(accuracy_score(Y_pred_knn,Y_test)*100,2)\n",
        "\n",
        "print(\"The accuracy score achieved using KNN is: \"+str(score_knn)+\" %\")"
      ],
      "execution_count": null,
      "outputs": [
        {
          "output_type": "stream",
          "name": "stdout",
          "text": [
            "The accuracy score achieved using KNN is: 39.77 %\n"
          ]
        }
      ]
    },
    {
      "cell_type": "markdown",
      "metadata": {
        "id": "Iw23IDgHxs6i"
      },
      "source": [
        "The accuracy score achieved using KNN is: 67.21 %"
      ]
    },
    {
      "cell_type": "markdown",
      "metadata": {
        "_uuid": "abb767170c662e4d9a8b240fd0fd7286ffb0b67f",
        "id": "ANV5Rg1mG-bU"
      },
      "source": [
        "### Decision Tree"
      ]
    },
    {
      "cell_type": "code",
      "metadata": {
        "_uuid": "8c141316764dce80103d1879c9b17d853702a746",
        "id": "yZq20fJDG-bU",
        "colab": {
          "base_uri": "https://localhost:8080/"
        },
        "outputId": "6fddf6d6-d34b-44b5-d252-f97660057c88"
      },
      "source": [
        "from sklearn.tree import DecisionTreeClassifier\n",
        "\n",
        "max_accuracy = 0\n",
        "\n",
        "\n",
        "for x in range(200):\n",
        "    dt = DecisionTreeClassifier(random_state=x)\n",
        "    dt.fit(X_train,Y_train)\n",
        "    Y_pred_dt = dt.predict(X_test)\n",
        "    current_accuracy = round(accuracy_score(Y_pred_dt,Y_test)*100,2)\n",
        "    if(current_accuracy > max_accuracy):\n",
        "        max_accuracy = current_accuracy\n",
        "        best_x = x\n",
        "dt = DecisionTreeClassifier(random_state=best_x)\n",
        "dt.fit(X_train,Y_train)\n",
        "Y_pred_dt = dt.predict(X_test)\n",
        "precision=precision_score(Y_test,Y_pred_dt)\n",
        "print(\"precision: \",precision)\n",
        "recall=recall_score(Y_test,Y_pred_dt)\n",
        "print(\"Recall : \",recall)\n",
        "print(\"F score: \",(2*precision*recall)/(precision+recall))\n",
        "confusionmat=confusion_matrix(Y_test,Y_pred_dt);\n",
        "print(\"confusion matrix is : \" ,confusionmat)"
      ],
      "execution_count": null,
      "outputs": [
        {
          "output_type": "stream",
          "name": "stdout",
          "text": [
            "precision:  0.826530612244898\n",
            "Recall :  0.9310344827586207\n",
            "F score:  0.8756756756756757\n",
            "confusion matrix is :  [[72 17]\n",
            " [ 6 81]]\n"
          ]
        }
      ]
    },
    {
      "cell_type": "code",
      "metadata": {
        "_uuid": "8de0bd2d57abd24d3a97a5b020a24439eb106f2b",
        "colab": {
          "base_uri": "https://localhost:8080/"
        },
        "id": "KC86Ynz7G-bV",
        "outputId": "bd5ecf8f-7f1f-4af4-d4d3-5bbee922097e"
      },
      "source": [
        "print(Y_pred_dt.shape)"
      ],
      "execution_count": null,
      "outputs": [
        {
          "output_type": "stream",
          "name": "stdout",
          "text": [
            "(176,)\n"
          ]
        }
      ]
    },
    {
      "cell_type": "code",
      "metadata": {
        "_uuid": "52ab93482d3b53824e9bc2b3e4114c57253e0c5b",
        "id": "1g-zjyrPG-bV",
        "colab": {
          "base_uri": "https://localhost:8080/"
        },
        "outputId": "4f0ee2dc-440f-493c-912e-9544102e0ac7"
      },
      "source": [
        "score_dt = round(accuracy_score(Y_pred_dt,Y_test)*100,2)\n",
        "\n",
        "print(\"The accuracy score achieved using Decision Tree is: \"+str(score_dt)+\" %\")"
      ],
      "execution_count": null,
      "outputs": [
        {
          "output_type": "stream",
          "name": "stdout",
          "text": [
            "The accuracy score achieved using Decision Tree is: 86.93 %\n"
          ]
        }
      ]
    },
    {
      "cell_type": "markdown",
      "metadata": {
        "id": "FLPbJ91Ex7OB"
      },
      "source": [
        "The accuracy score achieved using Decision Tree is: 81.97 %"
      ]
    },
    {
      "cell_type": "markdown",
      "metadata": {
        "_uuid": "9e663d26efb00a434751f06ad0292949eff6c358",
        "id": "aStxCqigG-bV"
      },
      "source": [
        "### Random Forest"
      ]
    },
    {
      "cell_type": "code",
      "metadata": {
        "_uuid": "8284f5222cf90be1bcd37887c45f91cf22ed1193",
        "id": "0rdD8kciG-bW",
        "colab": {
          "base_uri": "https://localhost:8080/"
        },
        "outputId": "e66edaaa-7e0e-4129-c2cd-f3148c8b79e6"
      },
      "source": [
        "from sklearn.ensemble import RandomForestClassifier\n",
        "\n",
        "max_accuracy = 0\n",
        "\n",
        "\n",
        "for x in range(2000):\n",
        "    rf = RandomForestClassifier(random_state=x)\n",
        "    rf.fit(X_train,Y_train)\n",
        "    Y_pred_rf = rf.predict(X_test)\n",
        "    current_accuracy = round(accuracy_score(Y_pred_rf,Y_test)*100,2)\n",
        "    if(current_accuracy>max_accuracy):\n",
        "        max_accuracy = current_accuracy\n",
        "        best_x = x\n",
        "rf = RandomForestClassifier(random_state=best_x)\n",
        "rf.fit(X_train,Y_train)\n",
        "Y_pred_rf = rf.predict(X_test)\n",
        "precision=precision_score(Y_test,Y_pred_rf)\n",
        "print(\"precision: \",precision)\n",
        "recall=recall_score(Y_test,Y_pred_rf)\n",
        "print(\"Recall : \",recall)\n",
        "print(\"F score: \",(2*precision*recall)/(precision+recall))\n",
        "confusionmat=confusion_matrix(Y_test,Y_pred_rf);\n",
        "print(\"confusion matrix is : \" ,confusionmat)"
      ],
      "execution_count": null,
      "outputs": [
        {
          "output_type": "stream",
          "name": "stdout",
          "text": [
            "precision:  0.9204545454545454\n",
            "Recall :  0.9310344827586207\n",
            "F score:  0.9257142857142858\n",
            "confusion matrix is :  [[82  7]\n",
            " [ 6 81]]\n"
          ]
        }
      ]
    },
    {
      "cell_type": "code",
      "metadata": {
        "_uuid": "edc8e1cbb57be0aa9e9ad5f4997212d53a9a4c99",
        "id": "nt5z5raqG-bW",
        "colab": {
          "base_uri": "https://localhost:8080/"
        },
        "outputId": "ae053398-f84d-4fdf-c03e-b1f14f36692e"
      },
      "source": [
        "Y_pred_rf.shape"
      ],
      "execution_count": null,
      "outputs": [
        {
          "output_type": "execute_result",
          "data": {
            "text/plain": [
              "(176,)"
            ]
          },
          "metadata": {},
          "execution_count": 59
        }
      ]
    },
    {
      "cell_type": "code",
      "metadata": {
        "_uuid": "965228f30e05e07e7960a3375dc7dc85b49caed7",
        "id": "0CxuCnlVG-bX",
        "colab": {
          "base_uri": "https://localhost:8080/"
        },
        "outputId": "9a41154b-d911-431a-e470-dc10ce5af2ff"
      },
      "source": [
        "score_rf = round(accuracy_score(Y_pred_rf,Y_test)*100,2)\n",
        "\n",
        "print(\"The accuracy score achieved using Decision Tree is: \"+str(score_rf)+\" %\")"
      ],
      "execution_count": null,
      "outputs": [
        {
          "output_type": "stream",
          "name": "stdout",
          "text": [
            "The accuracy score achieved using Decision Tree is: 92.61 %\n"
          ]
        }
      ]
    },
    {
      "cell_type": "markdown",
      "metadata": {
        "id": "j4cKsz7NzTlZ"
      },
      "source": [
        "The accuracy score achieved using Decision Tree is: 90.16 %"
      ]
    },
    {
      "cell_type": "markdown",
      "metadata": {
        "_uuid": "6a0fc13a6c2fccd6a725a7691cfe95d74348a8ae",
        "id": "WXxrq0geG-bX"
      },
      "source": [
        "## XGBoost"
      ]
    },
    {
      "cell_type": "code",
      "metadata": {
        "_uuid": "5a437f3c0e190887e2192ecb1844eaa6eb1d34a7",
        "id": "khZayRA1G-bY",
        "colab": {
          "base_uri": "https://localhost:8080/"
        },
        "outputId": "60ffc9d6-d3c7-4536-f479-f2156fe5ef9c"
      },
      "source": [
        "import xgboost as xgb\n",
        "\n",
        "xgb_model = xgb.XGBClassifier(objective=\"binary:logistic\", random_state=42)\n",
        "xgb_model.fit(X_train, Y_train)\n",
        "\n",
        "Y_pred_xgb = xgb_model.predict(X_test)\n",
        "precision=precision_score(Y_test,Y_pred_xgb)\n",
        "print(\"precision: \",precision)\n",
        "recall=recall_score(Y_test,Y_pred_xgb)\n",
        "print(\"Recall : \",recall)\n",
        "print(\"F score: \",(2*precision*recall)/(precision+recall))\n",
        "confusionmat=confusion_matrix(Y_test,Y_pred_xgb);\n",
        "print(\"confusion matrix is : \" ,confusionmat)"
      ],
      "execution_count": null,
      "outputs": [
        {
          "output_type": "stream",
          "name": "stdout",
          "text": [
            "precision:  0.8227848101265823\n",
            "Recall :  0.7471264367816092\n",
            "F score:  0.7831325301204819\n",
            "confusion matrix is :  [[75 14]\n",
            " [22 65]]\n"
          ]
        }
      ]
    },
    {
      "cell_type": "code",
      "metadata": {
        "_uuid": "168d52cd705f2abb6763107328c984e4252c618e",
        "id": "Cl68QI-cG-bY",
        "colab": {
          "base_uri": "https://localhost:8080/"
        },
        "outputId": "1fe1b64d-c082-4ae9-b7aa-a729a6973cff"
      },
      "source": [
        "Y_pred_xgb.shape"
      ],
      "execution_count": null,
      "outputs": [
        {
          "output_type": "execute_result",
          "data": {
            "text/plain": [
              "(176,)"
            ]
          },
          "metadata": {},
          "execution_count": 62
        }
      ]
    },
    {
      "cell_type": "code",
      "metadata": {
        "_uuid": "319c4f0d2e62b03c95a48df0ecc33b15e7fa7f39",
        "id": "d0MF9WjqG-bY",
        "colab": {
          "base_uri": "https://localhost:8080/"
        },
        "outputId": "31c95fe6-6335-481e-b905-ae3fd295462b"
      },
      "source": [
        "score_xgb = round(accuracy_score(Y_pred_xgb,Y_test)*100,2)\n",
        "\n",
        "print(\"The accuracy score achieved using XGBoost is: \"+str(score_xgb)+\" %\")"
      ],
      "execution_count": null,
      "outputs": [
        {
          "output_type": "stream",
          "name": "stdout",
          "text": [
            "The accuracy score achieved using XGBoost is: 79.55 %\n"
          ]
        }
      ]
    },
    {
      "cell_type": "markdown",
      "metadata": {
        "id": "N9VjMpvXzZnH"
      },
      "source": [
        "The accuracy score achieved using XGBoost is: 85.25 %"
      ]
    },
    {
      "cell_type": "markdown",
      "metadata": {
        "_uuid": "e224ab23f275a3a56cdba6a9ccfddbd6a4d3b4fd",
        "id": "94R4Fb8FG-bZ"
      },
      "source": [
        "### Neural Network"
      ]
    },
    {
      "cell_type": "code",
      "metadata": {
        "_uuid": "727b391ad6d86468a96e93dc645ade6e2da4048e",
        "id": "j7k4jQzMG-bZ"
      },
      "source": [
        "from keras.models import Sequential\n",
        "from keras.models import *\n",
        "from keras.layers import Dense"
      ],
      "execution_count": null,
      "outputs": []
    },
    {
      "cell_type": "code",
      "metadata": {
        "_uuid": "650f1baa7db466923626c707408319fa29f22d10",
        "id": "IxaYsfLtG-ba"
      },
      "source": [
        "\n",
        "model = Sequential()\n",
        "model.add(Dense(11,activation='relu',input_dim=13))\n",
        "model.add(Dense(11,activation='relu',input_dim=13))\n",
        "# model.add(Dropout(0.5))\n",
        "model.add(Dense(11,activation='relu',input_dim=13))\n",
        "model.add(Dense(11,activation='relu',input_dim=13))\n",
        "# model.add(Dropout(0.5))\n",
        "model.add(Dense(11,activation='relu',input_dim=13))\n",
        "model.add(Dense(8,activation='relu',input_dim=13))\n",
        "\n",
        "\n",
        "model.add(Dense(1,activation='sigmoid'))\n",
        "\n",
        "model.compile(loss='binary_crossentropy',optimizer='adam',metrics=['accuracy'])"
      ],
      "execution_count": null,
      "outputs": []
    },
    {
      "cell_type": "code",
      "metadata": {
        "_uuid": "dde4e50b5c4c24c73b03133fc7c90bf663fd6d82",
        "id": "gW55qQZMG-ba",
        "colab": {
          "base_uri": "https://localhost:8080/"
        },
        "outputId": "376e82e7-e568-4739-c655-ef72f4fe8b4c"
      },
      "source": [
        "model.fit(X_train,Y_train,epochs=500)"
      ],
      "execution_count": null,
      "outputs": [
        {
          "output_type": "stream",
          "name": "stdout",
          "text": [
            "Epoch 1/500\n",
            "21/21 [==============================] - 0s 2ms/step - loss: 0.4494 - accuracy: 0.7994\n",
            "Epoch 2/500\n",
            "21/21 [==============================] - 0s 2ms/step - loss: 0.4726 - accuracy: 0.7793\n",
            "Epoch 3/500\n",
            "21/21 [==============================] - 0s 2ms/step - loss: 0.4428 - accuracy: 0.7917\n",
            "Epoch 4/500\n",
            "21/21 [==============================] - 0s 3ms/step - loss: 0.4462 - accuracy: 0.7963\n",
            "Epoch 5/500\n",
            "21/21 [==============================] - 0s 3ms/step - loss: 0.4592 - accuracy: 0.7809\n",
            "Epoch 6/500\n",
            "21/21 [==============================] - 0s 2ms/step - loss: 0.4370 - accuracy: 0.7870\n",
            "Epoch 7/500\n",
            "21/21 [==============================] - 0s 2ms/step - loss: 0.4513 - accuracy: 0.7840\n",
            "Epoch 8/500\n",
            "21/21 [==============================] - 0s 3ms/step - loss: 0.4675 - accuracy: 0.7762\n",
            "Epoch 9/500\n",
            "21/21 [==============================] - 0s 3ms/step - loss: 0.4645 - accuracy: 0.7901\n",
            "Epoch 10/500\n",
            "21/21 [==============================] - 0s 2ms/step - loss: 0.4436 - accuracy: 0.8102\n",
            "Epoch 11/500\n",
            "21/21 [==============================] - 0s 2ms/step - loss: 0.4463 - accuracy: 0.7917\n",
            "Epoch 12/500\n",
            "21/21 [==============================] - 0s 2ms/step - loss: 0.4436 - accuracy: 0.8009\n",
            "Epoch 13/500\n",
            "21/21 [==============================] - 0s 3ms/step - loss: 0.4739 - accuracy: 0.7701\n",
            "Epoch 14/500\n",
            "21/21 [==============================] - 0s 2ms/step - loss: 0.4591 - accuracy: 0.7917\n",
            "Epoch 15/500\n",
            "21/21 [==============================] - 0s 2ms/step - loss: 0.4649 - accuracy: 0.7716\n",
            "Epoch 16/500\n",
            "21/21 [==============================] - 0s 3ms/step - loss: 0.4557 - accuracy: 0.7978\n",
            "Epoch 17/500\n",
            "21/21 [==============================] - 0s 3ms/step - loss: 0.4440 - accuracy: 0.7978\n",
            "Epoch 18/500\n",
            "21/21 [==============================] - 0s 3ms/step - loss: 0.4479 - accuracy: 0.7870\n",
            "Epoch 19/500\n",
            "21/21 [==============================] - 0s 2ms/step - loss: 0.4423 - accuracy: 0.7994\n",
            "Epoch 20/500\n",
            "21/21 [==============================] - 0s 2ms/step - loss: 0.4469 - accuracy: 0.7886\n",
            "Epoch 21/500\n",
            "21/21 [==============================] - 0s 2ms/step - loss: 0.4469 - accuracy: 0.7948\n",
            "Epoch 22/500\n",
            "21/21 [==============================] - 0s 3ms/step - loss: 0.4514 - accuracy: 0.7917\n",
            "Epoch 23/500\n",
            "21/21 [==============================] - 0s 2ms/step - loss: 0.4404 - accuracy: 0.7917\n",
            "Epoch 24/500\n",
            "21/21 [==============================] - 0s 2ms/step - loss: 0.4527 - accuracy: 0.7948\n",
            "Epoch 25/500\n",
            "21/21 [==============================] - 0s 2ms/step - loss: 0.4640 - accuracy: 0.7824\n",
            "Epoch 26/500\n",
            "21/21 [==============================] - 0s 3ms/step - loss: 0.4781 - accuracy: 0.7701\n",
            "Epoch 27/500\n",
            "21/21 [==============================] - 0s 3ms/step - loss: 0.4819 - accuracy: 0.7716\n",
            "Epoch 28/500\n",
            "21/21 [==============================] - 0s 3ms/step - loss: 0.4566 - accuracy: 0.7870\n",
            "Epoch 29/500\n",
            "21/21 [==============================] - 0s 2ms/step - loss: 0.4482 - accuracy: 0.7932\n",
            "Epoch 30/500\n",
            "21/21 [==============================] - 0s 2ms/step - loss: 0.4627 - accuracy: 0.7793\n",
            "Epoch 31/500\n",
            "21/21 [==============================] - 0s 2ms/step - loss: 0.4502 - accuracy: 0.7870\n",
            "Epoch 32/500\n",
            "21/21 [==============================] - 0s 2ms/step - loss: 0.4665 - accuracy: 0.7886\n",
            "Epoch 33/500\n",
            "21/21 [==============================] - 0s 2ms/step - loss: 0.4715 - accuracy: 0.7840\n",
            "Epoch 34/500\n",
            "21/21 [==============================] - 0s 2ms/step - loss: 0.4996 - accuracy: 0.7546\n",
            "Epoch 35/500\n",
            "21/21 [==============================] - 0s 4ms/step - loss: 0.4511 - accuracy: 0.7978\n",
            "Epoch 36/500\n",
            "21/21 [==============================] - 0s 3ms/step - loss: 0.4623 - accuracy: 0.7701\n",
            "Epoch 37/500\n",
            "21/21 [==============================] - 0s 2ms/step - loss: 0.4437 - accuracy: 0.7963\n",
            "Epoch 38/500\n",
            "21/21 [==============================] - 0s 3ms/step - loss: 0.4438 - accuracy: 0.7994\n",
            "Epoch 39/500\n",
            "21/21 [==============================] - 0s 3ms/step - loss: 0.4470 - accuracy: 0.7994\n",
            "Epoch 40/500\n",
            "21/21 [==============================] - 0s 2ms/step - loss: 0.4755 - accuracy: 0.7793\n",
            "Epoch 41/500\n",
            "21/21 [==============================] - 0s 2ms/step - loss: 0.5438 - accuracy: 0.7392\n",
            "Epoch 42/500\n",
            "21/21 [==============================] - 0s 3ms/step - loss: 0.4914 - accuracy: 0.7593\n",
            "Epoch 43/500\n",
            "21/21 [==============================] - 0s 2ms/step - loss: 0.4589 - accuracy: 0.7824\n",
            "Epoch 44/500\n",
            "21/21 [==============================] - 0s 2ms/step - loss: 0.4468 - accuracy: 0.7932\n",
            "Epoch 45/500\n",
            "21/21 [==============================] - 0s 2ms/step - loss: 0.4601 - accuracy: 0.7716\n",
            "Epoch 46/500\n",
            "21/21 [==============================] - 0s 2ms/step - loss: 0.4418 - accuracy: 0.7948\n",
            "Epoch 47/500\n",
            "21/21 [==============================] - 0s 2ms/step - loss: 0.4468 - accuracy: 0.7840\n",
            "Epoch 48/500\n",
            "21/21 [==============================] - 0s 2ms/step - loss: 0.4520 - accuracy: 0.7793\n",
            "Epoch 49/500\n",
            "21/21 [==============================] - 0s 2ms/step - loss: 0.4437 - accuracy: 0.8025\n",
            "Epoch 50/500\n",
            "21/21 [==============================] - 0s 2ms/step - loss: 0.4494 - accuracy: 0.7778\n",
            "Epoch 51/500\n",
            "21/21 [==============================] - 0s 3ms/step - loss: 0.4469 - accuracy: 0.7978\n",
            "Epoch 52/500\n",
            "21/21 [==============================] - 0s 2ms/step - loss: 0.4851 - accuracy: 0.7639\n",
            "Epoch 53/500\n",
            "21/21 [==============================] - 0s 2ms/step - loss: 0.4573 - accuracy: 0.7747\n",
            "Epoch 54/500\n",
            "21/21 [==============================] - 0s 2ms/step - loss: 0.4490 - accuracy: 0.7824\n",
            "Epoch 55/500\n",
            "21/21 [==============================] - 0s 2ms/step - loss: 0.4567 - accuracy: 0.7917\n",
            "Epoch 56/500\n",
            "21/21 [==============================] - 0s 3ms/step - loss: 0.4542 - accuracy: 0.7793\n",
            "Epoch 57/500\n",
            "21/21 [==============================] - 0s 3ms/step - loss: 0.4481 - accuracy: 0.7901\n",
            "Epoch 58/500\n",
            "21/21 [==============================] - 0s 2ms/step - loss: 0.4718 - accuracy: 0.7716\n",
            "Epoch 59/500\n",
            "21/21 [==============================] - 0s 2ms/step - loss: 0.4482 - accuracy: 0.7932\n",
            "Epoch 60/500\n",
            "21/21 [==============================] - 0s 2ms/step - loss: 0.4578 - accuracy: 0.7762\n",
            "Epoch 61/500\n",
            "21/21 [==============================] - 0s 2ms/step - loss: 0.4462 - accuracy: 0.7917\n",
            "Epoch 62/500\n",
            "21/21 [==============================] - 0s 2ms/step - loss: 0.4682 - accuracy: 0.7840\n",
            "Epoch 63/500\n",
            "21/21 [==============================] - 0s 3ms/step - loss: 0.4416 - accuracy: 0.7963\n",
            "Epoch 64/500\n",
            "21/21 [==============================] - 0s 3ms/step - loss: 0.4611 - accuracy: 0.7901\n",
            "Epoch 65/500\n",
            "21/21 [==============================] - 0s 3ms/step - loss: 0.4470 - accuracy: 0.7840\n",
            "Epoch 66/500\n",
            "21/21 [==============================] - 0s 2ms/step - loss: 0.4570 - accuracy: 0.7809\n",
            "Epoch 67/500\n",
            "21/21 [==============================] - 0s 2ms/step - loss: 0.4387 - accuracy: 0.7978\n",
            "Epoch 68/500\n",
            "21/21 [==============================] - 0s 2ms/step - loss: 0.4555 - accuracy: 0.7824\n",
            "Epoch 69/500\n",
            "21/21 [==============================] - 0s 2ms/step - loss: 0.4406 - accuracy: 0.7978\n",
            "Epoch 70/500\n",
            "21/21 [==============================] - 0s 2ms/step - loss: 0.4486 - accuracy: 0.7917\n",
            "Epoch 71/500\n",
            "21/21 [==============================] - 0s 2ms/step - loss: 0.4454 - accuracy: 0.7870\n",
            "Epoch 72/500\n",
            "21/21 [==============================] - 0s 3ms/step - loss: 0.4361 - accuracy: 0.7901\n",
            "Epoch 73/500\n",
            "21/21 [==============================] - 0s 3ms/step - loss: 0.4418 - accuracy: 0.7901\n",
            "Epoch 74/500\n",
            "21/21 [==============================] - 0s 2ms/step - loss: 0.4441 - accuracy: 0.7994\n",
            "Epoch 75/500\n",
            "21/21 [==============================] - 0s 2ms/step - loss: 0.4457 - accuracy: 0.7886\n",
            "Epoch 76/500\n",
            "21/21 [==============================] - 0s 2ms/step - loss: 0.4310 - accuracy: 0.8009\n",
            "Epoch 77/500\n",
            "21/21 [==============================] - 0s 2ms/step - loss: 0.4531 - accuracy: 0.7809\n",
            "Epoch 78/500\n",
            "21/21 [==============================] - 0s 2ms/step - loss: 0.4623 - accuracy: 0.7840\n",
            "Epoch 79/500\n",
            "21/21 [==============================] - 0s 3ms/step - loss: 0.4534 - accuracy: 0.7870\n",
            "Epoch 80/500\n",
            "21/21 [==============================] - 0s 2ms/step - loss: 0.4488 - accuracy: 0.7963\n",
            "Epoch 81/500\n",
            "21/21 [==============================] - 0s 2ms/step - loss: 0.4385 - accuracy: 0.7948\n",
            "Epoch 82/500\n",
            "21/21 [==============================] - 0s 2ms/step - loss: 0.4285 - accuracy: 0.8009\n",
            "Epoch 83/500\n",
            "21/21 [==============================] - 0s 2ms/step - loss: 0.4383 - accuracy: 0.7948\n",
            "Epoch 84/500\n",
            "21/21 [==============================] - 0s 2ms/step - loss: 0.4430 - accuracy: 0.7886\n",
            "Epoch 85/500\n",
            "21/21 [==============================] - 0s 2ms/step - loss: 0.4503 - accuracy: 0.7901\n",
            "Epoch 86/500\n",
            "21/21 [==============================] - 0s 2ms/step - loss: 0.4447 - accuracy: 0.7870\n",
            "Epoch 87/500\n",
            "21/21 [==============================] - 0s 2ms/step - loss: 0.4323 - accuracy: 0.8086\n",
            "Epoch 88/500\n",
            "21/21 [==============================] - 0s 2ms/step - loss: 0.4451 - accuracy: 0.7901\n",
            "Epoch 89/500\n",
            "21/21 [==============================] - 0s 2ms/step - loss: 0.4302 - accuracy: 0.8056\n",
            "Epoch 90/500\n",
            "21/21 [==============================] - 0s 2ms/step - loss: 0.4327 - accuracy: 0.7917\n",
            "Epoch 91/500\n",
            "21/21 [==============================] - 0s 3ms/step - loss: 0.4307 - accuracy: 0.8009\n",
            "Epoch 92/500\n",
            "21/21 [==============================] - 0s 2ms/step - loss: 0.4558 - accuracy: 0.7870\n",
            "Epoch 93/500\n",
            "21/21 [==============================] - 0s 2ms/step - loss: 0.4673 - accuracy: 0.7778\n",
            "Epoch 94/500\n",
            "21/21 [==============================] - 0s 2ms/step - loss: 0.4538 - accuracy: 0.7824\n",
            "Epoch 95/500\n",
            "21/21 [==============================] - 0s 2ms/step - loss: 0.4596 - accuracy: 0.7824\n",
            "Epoch 96/500\n",
            "21/21 [==============================] - 0s 2ms/step - loss: 0.4461 - accuracy: 0.8025\n",
            "Epoch 97/500\n",
            "21/21 [==============================] - 0s 3ms/step - loss: 0.4561 - accuracy: 0.7731\n",
            "Epoch 98/500\n",
            "21/21 [==============================] - 0s 2ms/step - loss: 0.4344 - accuracy: 0.7963\n",
            "Epoch 99/500\n",
            "21/21 [==============================] - 0s 2ms/step - loss: 0.4322 - accuracy: 0.7917\n",
            "Epoch 100/500\n",
            "21/21 [==============================] - 0s 2ms/step - loss: 0.4442 - accuracy: 0.7870\n",
            "Epoch 101/500\n",
            "21/21 [==============================] - 0s 2ms/step - loss: 0.4465 - accuracy: 0.7870\n",
            "Epoch 102/500\n",
            "21/21 [==============================] - 0s 2ms/step - loss: 0.4376 - accuracy: 0.7994\n",
            "Epoch 103/500\n",
            "21/21 [==============================] - 0s 2ms/step - loss: 0.4617 - accuracy: 0.7762\n",
            "Epoch 104/500\n",
            "21/21 [==============================] - 0s 2ms/step - loss: 0.4426 - accuracy: 0.7917\n",
            "Epoch 105/500\n",
            "21/21 [==============================] - 0s 3ms/step - loss: 0.4620 - accuracy: 0.7716\n",
            "Epoch 106/500\n",
            "21/21 [==============================] - 0s 3ms/step - loss: 0.4562 - accuracy: 0.7886\n",
            "Epoch 107/500\n",
            "21/21 [==============================] - 0s 2ms/step - loss: 0.4417 - accuracy: 0.7901\n",
            "Epoch 108/500\n",
            "21/21 [==============================] - 0s 2ms/step - loss: 0.4480 - accuracy: 0.7901\n",
            "Epoch 109/500\n",
            "21/21 [==============================] - 0s 3ms/step - loss: 0.4390 - accuracy: 0.7901\n",
            "Epoch 110/500\n",
            "21/21 [==============================] - 0s 2ms/step - loss: 0.4474 - accuracy: 0.7994\n",
            "Epoch 111/500\n",
            "21/21 [==============================] - 0s 2ms/step - loss: 0.4460 - accuracy: 0.7824\n",
            "Epoch 112/500\n",
            "21/21 [==============================] - 0s 2ms/step - loss: 0.4390 - accuracy: 0.7917\n",
            "Epoch 113/500\n",
            "21/21 [==============================] - 0s 2ms/step - loss: 0.4501 - accuracy: 0.7886\n",
            "Epoch 114/500\n",
            "21/21 [==============================] - 0s 2ms/step - loss: 0.4329 - accuracy: 0.7901\n",
            "Epoch 115/500\n",
            "21/21 [==============================] - 0s 2ms/step - loss: 0.4356 - accuracy: 0.7917\n",
            "Epoch 116/500\n",
            "21/21 [==============================] - 0s 2ms/step - loss: 0.4348 - accuracy: 0.7932\n",
            "Epoch 117/500\n",
            "21/21 [==============================] - 0s 2ms/step - loss: 0.4380 - accuracy: 0.7963\n",
            "Epoch 118/500\n",
            "21/21 [==============================] - 0s 3ms/step - loss: 0.4484 - accuracy: 0.8025\n",
            "Epoch 119/500\n",
            "21/21 [==============================] - 0s 2ms/step - loss: 0.4393 - accuracy: 0.7948\n",
            "Epoch 120/500\n",
            "21/21 [==============================] - 0s 2ms/step - loss: 0.4441 - accuracy: 0.7963\n",
            "Epoch 121/500\n",
            "21/21 [==============================] - 0s 2ms/step - loss: 0.4502 - accuracy: 0.7901\n",
            "Epoch 122/500\n",
            "21/21 [==============================] - 0s 2ms/step - loss: 0.4512 - accuracy: 0.7886\n",
            "Epoch 123/500\n",
            "21/21 [==============================] - 0s 2ms/step - loss: 0.4396 - accuracy: 0.7963\n",
            "Epoch 124/500\n",
            "21/21 [==============================] - 0s 2ms/step - loss: 0.4384 - accuracy: 0.7870\n",
            "Epoch 125/500\n",
            "21/21 [==============================] - 0s 2ms/step - loss: 0.4474 - accuracy: 0.7948\n",
            "Epoch 126/500\n",
            "21/21 [==============================] - 0s 2ms/step - loss: 0.4435 - accuracy: 0.7932\n",
            "Epoch 127/500\n",
            "21/21 [==============================] - 0s 3ms/step - loss: 0.4331 - accuracy: 0.7978\n",
            "Epoch 128/500\n",
            "21/21 [==============================] - 0s 2ms/step - loss: 0.4372 - accuracy: 0.7963\n",
            "Epoch 129/500\n",
            "21/21 [==============================] - 0s 2ms/step - loss: 0.4420 - accuracy: 0.8009\n",
            "Epoch 130/500\n",
            "21/21 [==============================] - 0s 2ms/step - loss: 0.4400 - accuracy: 0.7840\n",
            "Epoch 131/500\n",
            "21/21 [==============================] - 0s 2ms/step - loss: 0.4455 - accuracy: 0.7917\n",
            "Epoch 132/500\n",
            "21/21 [==============================] - 0s 2ms/step - loss: 0.4380 - accuracy: 0.7917\n",
            "Epoch 133/500\n",
            "21/21 [==============================] - 0s 2ms/step - loss: 0.4400 - accuracy: 0.7963\n",
            "Epoch 134/500\n",
            "21/21 [==============================] - 0s 2ms/step - loss: 0.4366 - accuracy: 0.7948\n",
            "Epoch 135/500\n",
            "21/21 [==============================] - 0s 3ms/step - loss: 0.4284 - accuracy: 0.8009\n",
            "Epoch 136/500\n",
            "21/21 [==============================] - 0s 2ms/step - loss: 0.4345 - accuracy: 0.7932\n",
            "Epoch 137/500\n",
            "21/21 [==============================] - 0s 2ms/step - loss: 0.4366 - accuracy: 0.7886\n",
            "Epoch 138/500\n",
            "21/21 [==============================] - 0s 2ms/step - loss: 0.4639 - accuracy: 0.7840\n",
            "Epoch 139/500\n",
            "21/21 [==============================] - 0s 2ms/step - loss: 0.4800 - accuracy: 0.7608\n",
            "Epoch 140/500\n",
            "21/21 [==============================] - 0s 3ms/step - loss: 0.4489 - accuracy: 0.7716\n",
            "Epoch 141/500\n",
            "21/21 [==============================] - 0s 3ms/step - loss: 0.4309 - accuracy: 0.7994\n",
            "Epoch 142/500\n",
            "21/21 [==============================] - 0s 2ms/step - loss: 0.4668 - accuracy: 0.7809\n",
            "Epoch 143/500\n",
            "21/21 [==============================] - 0s 2ms/step - loss: 0.4540 - accuracy: 0.7809\n",
            "Epoch 144/500\n",
            "21/21 [==============================] - 0s 4ms/step - loss: 0.4387 - accuracy: 0.7917\n",
            "Epoch 145/500\n",
            "21/21 [==============================] - 0s 3ms/step - loss: 0.4286 - accuracy: 0.7994\n",
            "Epoch 146/500\n",
            "21/21 [==============================] - 0s 2ms/step - loss: 0.4588 - accuracy: 0.7793\n",
            "Epoch 147/500\n",
            "21/21 [==============================] - 0s 2ms/step - loss: 0.4531 - accuracy: 0.7809\n",
            "Epoch 148/500\n",
            "21/21 [==============================] - 0s 2ms/step - loss: 0.4281 - accuracy: 0.7994\n",
            "Epoch 149/500\n",
            "21/21 [==============================] - 0s 2ms/step - loss: 0.4358 - accuracy: 0.7978\n",
            "Epoch 150/500\n",
            "21/21 [==============================] - 0s 2ms/step - loss: 0.4372 - accuracy: 0.7932\n",
            "Epoch 151/500\n",
            "21/21 [==============================] - 0s 2ms/step - loss: 0.4345 - accuracy: 0.7932\n",
            "Epoch 152/500\n",
            "21/21 [==============================] - 0s 2ms/step - loss: 0.4453 - accuracy: 0.7840\n",
            "Epoch 153/500\n",
            "21/21 [==============================] - 0s 3ms/step - loss: 0.4710 - accuracy: 0.7762\n",
            "Epoch 154/500\n",
            "21/21 [==============================] - 0s 2ms/step - loss: 0.4437 - accuracy: 0.7994\n",
            "Epoch 155/500\n",
            "21/21 [==============================] - 0s 2ms/step - loss: 0.4440 - accuracy: 0.7963\n",
            "Epoch 156/500\n",
            "21/21 [==============================] - 0s 2ms/step - loss: 0.4351 - accuracy: 0.7932\n",
            "Epoch 157/500\n",
            "21/21 [==============================] - 0s 2ms/step - loss: 0.4367 - accuracy: 0.8056\n",
            "Epoch 158/500\n",
            "21/21 [==============================] - 0s 2ms/step - loss: 0.4335 - accuracy: 0.7978\n",
            "Epoch 159/500\n",
            "21/21 [==============================] - 0s 2ms/step - loss: 0.4318 - accuracy: 0.8025\n",
            "Epoch 160/500\n",
            "21/21 [==============================] - 0s 2ms/step - loss: 0.4486 - accuracy: 0.7824\n",
            "Epoch 161/500\n",
            "21/21 [==============================] - 0s 2ms/step - loss: 0.4200 - accuracy: 0.8025\n",
            "Epoch 162/500\n",
            "21/21 [==============================] - 0s 3ms/step - loss: 0.4448 - accuracy: 0.7840\n",
            "Epoch 163/500\n",
            "21/21 [==============================] - 0s 3ms/step - loss: 0.4536 - accuracy: 0.7809\n",
            "Epoch 164/500\n",
            "21/21 [==============================] - 0s 2ms/step - loss: 0.4577 - accuracy: 0.7762\n",
            "Epoch 165/500\n",
            "21/21 [==============================] - 0s 2ms/step - loss: 0.4451 - accuracy: 0.7886\n",
            "Epoch 166/500\n",
            "21/21 [==============================] - 0s 2ms/step - loss: 0.4307 - accuracy: 0.8040\n",
            "Epoch 167/500\n",
            "21/21 [==============================] - 0s 2ms/step - loss: 0.4408 - accuracy: 0.8009\n",
            "Epoch 168/500\n",
            "21/21 [==============================] - 0s 3ms/step - loss: 0.4365 - accuracy: 0.7978\n",
            "Epoch 169/500\n",
            "21/21 [==============================] - 0s 2ms/step - loss: 0.4304 - accuracy: 0.7978\n",
            "Epoch 170/500\n",
            "21/21 [==============================] - 0s 2ms/step - loss: 0.4214 - accuracy: 0.8009\n",
            "Epoch 171/500\n",
            "21/21 [==============================] - 0s 2ms/step - loss: 0.4233 - accuracy: 0.7932\n",
            "Epoch 172/500\n",
            "21/21 [==============================] - 0s 2ms/step - loss: 0.4409 - accuracy: 0.7870\n",
            "Epoch 173/500\n",
            "21/21 [==============================] - 0s 2ms/step - loss: 0.4327 - accuracy: 0.7886\n",
            "Epoch 174/500\n",
            "21/21 [==============================] - 0s 2ms/step - loss: 0.4450 - accuracy: 0.7978\n",
            "Epoch 175/500\n",
            "21/21 [==============================] - 0s 2ms/step - loss: 0.4513 - accuracy: 0.7824\n",
            "Epoch 176/500\n",
            "21/21 [==============================] - 0s 3ms/step - loss: 0.4574 - accuracy: 0.7855\n",
            "Epoch 177/500\n",
            "21/21 [==============================] - 0s 2ms/step - loss: 0.5182 - accuracy: 0.7330\n",
            "Epoch 178/500\n",
            "21/21 [==============================] - 0s 2ms/step - loss: 0.4602 - accuracy: 0.7654\n",
            "Epoch 179/500\n",
            "21/21 [==============================] - 0s 3ms/step - loss: 0.4372 - accuracy: 0.7917\n",
            "Epoch 180/500\n",
            "21/21 [==============================] - 0s 2ms/step - loss: 0.4302 - accuracy: 0.7917\n",
            "Epoch 181/500\n",
            "21/21 [==============================] - 0s 2ms/step - loss: 0.4291 - accuracy: 0.8040\n",
            "Epoch 182/500\n",
            "21/21 [==============================] - 0s 3ms/step - loss: 0.4256 - accuracy: 0.7948\n",
            "Epoch 183/500\n",
            "21/21 [==============================] - 0s 3ms/step - loss: 0.4210 - accuracy: 0.7978\n",
            "Epoch 184/500\n",
            "21/21 [==============================] - 0s 3ms/step - loss: 0.4153 - accuracy: 0.8025\n",
            "Epoch 185/500\n",
            "21/21 [==============================] - 0s 2ms/step - loss: 0.4273 - accuracy: 0.7855\n",
            "Epoch 186/500\n",
            "21/21 [==============================] - 0s 3ms/step - loss: 0.4715 - accuracy: 0.7917\n",
            "Epoch 187/500\n",
            "21/21 [==============================] - 0s 2ms/step - loss: 0.4398 - accuracy: 0.7855\n",
            "Epoch 188/500\n",
            "21/21 [==============================] - 0s 2ms/step - loss: 0.4511 - accuracy: 0.7855\n",
            "Epoch 189/500\n",
            "21/21 [==============================] - 0s 3ms/step - loss: 0.4223 - accuracy: 0.7978\n",
            "Epoch 190/500\n",
            "21/21 [==============================] - 0s 4ms/step - loss: 0.4353 - accuracy: 0.7917\n",
            "Epoch 191/500\n",
            "21/21 [==============================] - 0s 2ms/step - loss: 0.4462 - accuracy: 0.7901\n",
            "Epoch 192/500\n",
            "21/21 [==============================] - 0s 2ms/step - loss: 0.4338 - accuracy: 0.7701\n",
            "Epoch 193/500\n",
            "21/21 [==============================] - 0s 3ms/step - loss: 0.4209 - accuracy: 0.8148\n",
            "Epoch 194/500\n",
            "21/21 [==============================] - 0s 3ms/step - loss: 0.4328 - accuracy: 0.7901\n",
            "Epoch 195/500\n",
            "21/21 [==============================] - 0s 2ms/step - loss: 0.4369 - accuracy: 0.7855\n",
            "Epoch 196/500\n",
            "21/21 [==============================] - 0s 3ms/step - loss: 0.4250 - accuracy: 0.8025\n",
            "Epoch 197/500\n",
            "21/21 [==============================] - 0s 3ms/step - loss: 0.4596 - accuracy: 0.7762\n",
            "Epoch 198/500\n",
            "21/21 [==============================] - 0s 2ms/step - loss: 0.4357 - accuracy: 0.7963\n",
            "Epoch 199/500\n",
            "21/21 [==============================] - 0s 2ms/step - loss: 0.4508 - accuracy: 0.7886\n",
            "Epoch 200/500\n",
            "21/21 [==============================] - 0s 2ms/step - loss: 0.4740 - accuracy: 0.7716\n",
            "Epoch 201/500\n",
            "21/21 [==============================] - 0s 2ms/step - loss: 0.4567 - accuracy: 0.7685\n",
            "Epoch 202/500\n",
            "21/21 [==============================] - 0s 2ms/step - loss: 0.4274 - accuracy: 0.8102\n",
            "Epoch 203/500\n",
            "21/21 [==============================] - 0s 2ms/step - loss: 0.4313 - accuracy: 0.7978\n",
            "Epoch 204/500\n",
            "21/21 [==============================] - 0s 2ms/step - loss: 0.4252 - accuracy: 0.7948\n",
            "Epoch 205/500\n",
            "21/21 [==============================] - 0s 3ms/step - loss: 0.4288 - accuracy: 0.7963\n",
            "Epoch 206/500\n",
            "21/21 [==============================] - 0s 2ms/step - loss: 0.4375 - accuracy: 0.8040\n",
            "Epoch 207/500\n",
            "21/21 [==============================] - 0s 2ms/step - loss: 0.4618 - accuracy: 0.7747\n",
            "Epoch 208/500\n",
            "21/21 [==============================] - 0s 2ms/step - loss: 0.4270 - accuracy: 0.7978\n",
            "Epoch 209/500\n",
            "21/21 [==============================] - 0s 2ms/step - loss: 0.4307 - accuracy: 0.7932\n",
            "Epoch 210/500\n",
            "21/21 [==============================] - 0s 4ms/step - loss: 0.4337 - accuracy: 0.7932\n",
            "Epoch 211/500\n",
            "21/21 [==============================] - 0s 2ms/step - loss: 0.4341 - accuracy: 0.7855\n",
            "Epoch 212/500\n",
            "21/21 [==============================] - 0s 2ms/step - loss: 0.4476 - accuracy: 0.7948\n",
            "Epoch 213/500\n",
            "21/21 [==============================] - 0s 3ms/step - loss: 0.4370 - accuracy: 0.7994\n",
            "Epoch 214/500\n",
            "21/21 [==============================] - 0s 2ms/step - loss: 0.4364 - accuracy: 0.8025\n",
            "Epoch 215/500\n",
            "21/21 [==============================] - 0s 3ms/step - loss: 0.4460 - accuracy: 0.7978\n",
            "Epoch 216/500\n",
            "21/21 [==============================] - 0s 2ms/step - loss: 0.4287 - accuracy: 0.8009\n",
            "Epoch 217/500\n",
            "21/21 [==============================] - 0s 2ms/step - loss: 0.4310 - accuracy: 0.8009\n",
            "Epoch 218/500\n",
            "21/21 [==============================] - 0s 3ms/step - loss: 0.4285 - accuracy: 0.7901\n",
            "Epoch 219/500\n",
            "21/21 [==============================] - 0s 3ms/step - loss: 0.4194 - accuracy: 0.8148\n",
            "Epoch 220/500\n",
            "21/21 [==============================] - 0s 3ms/step - loss: 0.4349 - accuracy: 0.7855\n",
            "Epoch 221/500\n",
            "21/21 [==============================] - 0s 3ms/step - loss: 0.4276 - accuracy: 0.7932\n",
            "Epoch 222/500\n",
            "21/21 [==============================] - 0s 2ms/step - loss: 0.4347 - accuracy: 0.7855\n",
            "Epoch 223/500\n",
            "21/21 [==============================] - 0s 2ms/step - loss: 0.4295 - accuracy: 0.7978\n",
            "Epoch 224/500\n",
            "21/21 [==============================] - 0s 2ms/step - loss: 0.4180 - accuracy: 0.7994\n",
            "Epoch 225/500\n",
            "21/21 [==============================] - 0s 3ms/step - loss: 0.4358 - accuracy: 0.7963\n",
            "Epoch 226/500\n",
            "21/21 [==============================] - 0s 3ms/step - loss: 0.4376 - accuracy: 0.7809\n",
            "Epoch 227/500\n",
            "21/21 [==============================] - 0s 3ms/step - loss: 0.4267 - accuracy: 0.7963\n",
            "Epoch 228/500\n",
            "21/21 [==============================] - 0s 3ms/step - loss: 0.4168 - accuracy: 0.8102\n",
            "Epoch 229/500\n",
            "21/21 [==============================] - 0s 2ms/step - loss: 0.4350 - accuracy: 0.7809\n",
            "Epoch 230/500\n",
            "21/21 [==============================] - 0s 2ms/step - loss: 0.4149 - accuracy: 0.8040\n",
            "Epoch 231/500\n",
            "21/21 [==============================] - 0s 2ms/step - loss: 0.4148 - accuracy: 0.7978\n",
            "Epoch 232/500\n",
            "21/21 [==============================] - 0s 2ms/step - loss: 0.4328 - accuracy: 0.7963\n",
            "Epoch 233/500\n",
            "21/21 [==============================] - 0s 2ms/step - loss: 0.4309 - accuracy: 0.7855\n",
            "Epoch 234/500\n",
            "21/21 [==============================] - 0s 3ms/step - loss: 0.4431 - accuracy: 0.7932\n",
            "Epoch 235/500\n",
            "21/21 [==============================] - 0s 2ms/step - loss: 0.4559 - accuracy: 0.7716\n",
            "Epoch 236/500\n",
            "21/21 [==============================] - 0s 2ms/step - loss: 0.4196 - accuracy: 0.7901\n",
            "Epoch 237/500\n",
            "21/21 [==============================] - 0s 2ms/step - loss: 0.4205 - accuracy: 0.8071\n",
            "Epoch 238/500\n",
            "21/21 [==============================] - 0s 2ms/step - loss: 0.4198 - accuracy: 0.7994\n",
            "Epoch 239/500\n",
            "21/21 [==============================] - 0s 3ms/step - loss: 0.4318 - accuracy: 0.7870\n",
            "Epoch 240/500\n",
            "21/21 [==============================] - 0s 3ms/step - loss: 0.4106 - accuracy: 0.8009\n",
            "Epoch 241/500\n",
            "21/21 [==============================] - 0s 2ms/step - loss: 0.4167 - accuracy: 0.7901\n",
            "Epoch 242/500\n",
            "21/21 [==============================] - 0s 2ms/step - loss: 0.4248 - accuracy: 0.7948\n",
            "Epoch 243/500\n",
            "21/21 [==============================] - 0s 3ms/step - loss: 0.4224 - accuracy: 0.7886\n",
            "Epoch 244/500\n",
            "21/21 [==============================] - 0s 3ms/step - loss: 0.4366 - accuracy: 0.7932\n",
            "Epoch 245/500\n",
            "21/21 [==============================] - 0s 2ms/step - loss: 0.4311 - accuracy: 0.8086\n",
            "Epoch 246/500\n",
            "21/21 [==============================] - 0s 3ms/step - loss: 0.4375 - accuracy: 0.7886\n",
            "Epoch 247/500\n",
            "21/21 [==============================] - 0s 3ms/step - loss: 0.4381 - accuracy: 0.7840\n",
            "Epoch 248/500\n",
            "21/21 [==============================] - 0s 3ms/step - loss: 0.4345 - accuracy: 0.7901\n",
            "Epoch 249/500\n",
            "21/21 [==============================] - 0s 3ms/step - loss: 0.4689 - accuracy: 0.7670\n",
            "Epoch 250/500\n",
            "21/21 [==============================] - 0s 3ms/step - loss: 0.4226 - accuracy: 0.7948\n",
            "Epoch 251/500\n",
            "21/21 [==============================] - 0s 2ms/step - loss: 0.4388 - accuracy: 0.7886\n",
            "Epoch 252/500\n",
            "21/21 [==============================] - 0s 2ms/step - loss: 0.4278 - accuracy: 0.7978\n",
            "Epoch 253/500\n",
            "21/21 [==============================] - 0s 3ms/step - loss: 0.4185 - accuracy: 0.8102\n",
            "Epoch 254/500\n",
            "21/21 [==============================] - 0s 3ms/step - loss: 0.4102 - accuracy: 0.8025\n",
            "Epoch 255/500\n",
            "21/21 [==============================] - 0s 2ms/step - loss: 0.4295 - accuracy: 0.7870\n",
            "Epoch 256/500\n",
            "21/21 [==============================] - 0s 3ms/step - loss: 0.4150 - accuracy: 0.7994\n",
            "Epoch 257/500\n",
            "21/21 [==============================] - 0s 2ms/step - loss: 0.4204 - accuracy: 0.8086\n",
            "Epoch 258/500\n",
            "21/21 [==============================] - 0s 3ms/step - loss: 0.4305 - accuracy: 0.8025\n",
            "Epoch 259/500\n",
            "21/21 [==============================] - 0s 2ms/step - loss: 0.4303 - accuracy: 0.7932\n",
            "Epoch 260/500\n",
            "21/21 [==============================] - 0s 2ms/step - loss: 0.4344 - accuracy: 0.7840\n",
            "Epoch 261/500\n",
            "21/21 [==============================] - 0s 2ms/step - loss: 0.4351 - accuracy: 0.7855\n",
            "Epoch 262/500\n",
            "21/21 [==============================] - 0s 2ms/step - loss: 0.4277 - accuracy: 0.7963\n",
            "Epoch 263/500\n",
            "21/21 [==============================] - 0s 2ms/step - loss: 0.4279 - accuracy: 0.7901\n",
            "Epoch 264/500\n",
            "21/21 [==============================] - 0s 2ms/step - loss: 0.4315 - accuracy: 0.7824\n",
            "Epoch 265/500\n",
            "21/21 [==============================] - 0s 2ms/step - loss: 0.4493 - accuracy: 0.7824\n",
            "Epoch 266/500\n",
            "21/21 [==============================] - 0s 2ms/step - loss: 0.4270 - accuracy: 0.8148\n",
            "Epoch 267/500\n",
            "21/21 [==============================] - 0s 3ms/step - loss: 0.4143 - accuracy: 0.8009\n",
            "Epoch 268/500\n",
            "21/21 [==============================] - 0s 2ms/step - loss: 0.4169 - accuracy: 0.7978\n",
            "Epoch 269/500\n",
            "21/21 [==============================] - 0s 3ms/step - loss: 0.4127 - accuracy: 0.8009\n",
            "Epoch 270/500\n",
            "21/21 [==============================] - 0s 2ms/step - loss: 0.4220 - accuracy: 0.8009\n",
            "Epoch 271/500\n",
            "21/21 [==============================] - 0s 2ms/step - loss: 0.4291 - accuracy: 0.7917\n",
            "Epoch 272/500\n",
            "21/21 [==============================] - 0s 3ms/step - loss: 0.4201 - accuracy: 0.7963\n",
            "Epoch 273/500\n",
            "21/21 [==============================] - 0s 2ms/step - loss: 0.4123 - accuracy: 0.7978\n",
            "Epoch 274/500\n",
            "21/21 [==============================] - 0s 2ms/step - loss: 0.4132 - accuracy: 0.8086\n",
            "Epoch 275/500\n",
            "21/21 [==============================] - 0s 3ms/step - loss: 0.4397 - accuracy: 0.8009\n",
            "Epoch 276/500\n",
            "21/21 [==============================] - 0s 2ms/step - loss: 0.4511 - accuracy: 0.7793\n",
            "Epoch 277/500\n",
            "21/21 [==============================] - 0s 2ms/step - loss: 0.4165 - accuracy: 0.8071\n",
            "Epoch 278/500\n",
            "21/21 [==============================] - 0s 2ms/step - loss: 0.4292 - accuracy: 0.7855\n",
            "Epoch 279/500\n",
            "21/21 [==============================] - 0s 3ms/step - loss: 0.4179 - accuracy: 0.8009\n",
            "Epoch 280/500\n",
            "21/21 [==============================] - 0s 3ms/step - loss: 0.4442 - accuracy: 0.7901\n",
            "Epoch 281/500\n",
            "21/21 [==============================] - 0s 3ms/step - loss: 0.4483 - accuracy: 0.7762\n",
            "Epoch 282/500\n",
            "21/21 [==============================] - 0s 2ms/step - loss: 0.4152 - accuracy: 0.8056\n",
            "Epoch 283/500\n",
            "21/21 [==============================] - 0s 2ms/step - loss: 0.4273 - accuracy: 0.7917\n",
            "Epoch 284/500\n",
            "21/21 [==============================] - 0s 3ms/step - loss: 0.4358 - accuracy: 0.7978\n",
            "Epoch 285/500\n",
            "21/21 [==============================] - 0s 2ms/step - loss: 0.4128 - accuracy: 0.8056\n",
            "Epoch 286/500\n",
            "21/21 [==============================] - 0s 3ms/step - loss: 0.4130 - accuracy: 0.8009\n",
            "Epoch 287/500\n",
            "21/21 [==============================] - 0s 3ms/step - loss: 0.4224 - accuracy: 0.7886\n",
            "Epoch 288/500\n",
            "21/21 [==============================] - 0s 3ms/step - loss: 0.5085 - accuracy: 0.7238\n",
            "Epoch 289/500\n",
            "21/21 [==============================] - 0s 2ms/step - loss: 0.5118 - accuracy: 0.7701\n",
            "Epoch 290/500\n",
            "21/21 [==============================] - 0s 2ms/step - loss: 0.5030 - accuracy: 0.7917\n",
            "Epoch 291/500\n",
            "21/21 [==============================] - 0s 3ms/step - loss: 0.4873 - accuracy: 0.7685\n",
            "Epoch 292/500\n",
            "21/21 [==============================] - 0s 2ms/step - loss: 0.4298 - accuracy: 0.8086\n",
            "Epoch 293/500\n",
            "21/21 [==============================] - 0s 3ms/step - loss: 0.4223 - accuracy: 0.7963\n",
            "Epoch 294/500\n",
            "21/21 [==============================] - 0s 3ms/step - loss: 0.4205 - accuracy: 0.8025\n",
            "Epoch 295/500\n",
            "21/21 [==============================] - 0s 2ms/step - loss: 0.4107 - accuracy: 0.8025\n",
            "Epoch 296/500\n",
            "21/21 [==============================] - 0s 2ms/step - loss: 0.4134 - accuracy: 0.8071\n",
            "Epoch 297/500\n",
            "21/21 [==============================] - 0s 2ms/step - loss: 0.4117 - accuracy: 0.7948\n",
            "Epoch 298/500\n",
            "21/21 [==============================] - 0s 2ms/step - loss: 0.4578 - accuracy: 0.7840\n",
            "Epoch 299/500\n",
            "21/21 [==============================] - 0s 2ms/step - loss: 0.4399 - accuracy: 0.7963\n",
            "Epoch 300/500\n",
            "21/21 [==============================] - 0s 3ms/step - loss: 0.4436 - accuracy: 0.7917\n",
            "Epoch 301/500\n",
            "21/21 [==============================] - 0s 3ms/step - loss: 0.4439 - accuracy: 0.8025\n",
            "Epoch 302/500\n",
            "21/21 [==============================] - 0s 3ms/step - loss: 0.4338 - accuracy: 0.7901\n",
            "Epoch 303/500\n",
            "21/21 [==============================] - 0s 3ms/step - loss: 0.4154 - accuracy: 0.8056\n",
            "Epoch 304/500\n",
            "21/21 [==============================] - 0s 2ms/step - loss: 0.4347 - accuracy: 0.7886\n",
            "Epoch 305/500\n",
            "21/21 [==============================] - 0s 2ms/step - loss: 0.4130 - accuracy: 0.8086\n",
            "Epoch 306/500\n",
            "21/21 [==============================] - 0s 4ms/step - loss: 0.4265 - accuracy: 0.8086\n",
            "Epoch 307/500\n",
            "21/21 [==============================] - 0s 3ms/step - loss: 0.4159 - accuracy: 0.8102\n",
            "Epoch 308/500\n",
            "21/21 [==============================] - 0s 3ms/step - loss: 0.4121 - accuracy: 0.7994\n",
            "Epoch 309/500\n",
            "21/21 [==============================] - 0s 2ms/step - loss: 0.4173 - accuracy: 0.7870\n",
            "Epoch 310/500\n",
            "21/21 [==============================] - 0s 3ms/step - loss: 0.4079 - accuracy: 0.8071\n",
            "Epoch 311/500\n",
            "21/21 [==============================] - 0s 3ms/step - loss: 0.4168 - accuracy: 0.8009\n",
            "Epoch 312/500\n",
            "21/21 [==============================] - 0s 3ms/step - loss: 0.4231 - accuracy: 0.7886\n",
            "Epoch 313/500\n",
            "21/21 [==============================] - 0s 3ms/step - loss: 0.4385 - accuracy: 0.7840\n",
            "Epoch 314/500\n",
            "21/21 [==============================] - 0s 3ms/step - loss: 0.4260 - accuracy: 0.7901\n",
            "Epoch 315/500\n",
            "21/21 [==============================] - 0s 4ms/step - loss: 0.4316 - accuracy: 0.8025\n",
            "Epoch 316/500\n",
            "21/21 [==============================] - 0s 3ms/step - loss: 0.4075 - accuracy: 0.8102\n",
            "Epoch 317/500\n",
            "21/21 [==============================] - 0s 3ms/step - loss: 0.4370 - accuracy: 0.7963\n",
            "Epoch 318/500\n",
            "21/21 [==============================] - 0s 3ms/step - loss: 0.4364 - accuracy: 0.7901\n",
            "Epoch 319/500\n",
            "21/21 [==============================] - 0s 3ms/step - loss: 0.4109 - accuracy: 0.8133\n",
            "Epoch 320/500\n",
            "21/21 [==============================] - 0s 3ms/step - loss: 0.4101 - accuracy: 0.8102\n",
            "Epoch 321/500\n",
            "21/21 [==============================] - 0s 3ms/step - loss: 0.4089 - accuracy: 0.8086\n",
            "Epoch 322/500\n",
            "21/21 [==============================] - 0s 3ms/step - loss: 0.4179 - accuracy: 0.8025\n",
            "Epoch 323/500\n",
            "21/21 [==============================] - 0s 3ms/step - loss: 0.4121 - accuracy: 0.8056\n",
            "Epoch 324/500\n",
            "21/21 [==============================] - 0s 3ms/step - loss: 0.4338 - accuracy: 0.7901\n",
            "Epoch 325/500\n",
            "21/21 [==============================] - 0s 2ms/step - loss: 0.4595 - accuracy: 0.7685\n",
            "Epoch 326/500\n",
            "21/21 [==============================] - 0s 2ms/step - loss: 0.4232 - accuracy: 0.7963\n",
            "Epoch 327/500\n",
            "21/21 [==============================] - 0s 3ms/step - loss: 0.4148 - accuracy: 0.7994\n",
            "Epoch 328/500\n",
            "21/21 [==============================] - 0s 2ms/step - loss: 0.4153 - accuracy: 0.8025\n",
            "Epoch 329/500\n",
            "21/21 [==============================] - 0s 2ms/step - loss: 0.4350 - accuracy: 0.7917\n",
            "Epoch 330/500\n",
            "21/21 [==============================] - 0s 2ms/step - loss: 0.4771 - accuracy: 0.7670\n",
            "Epoch 331/500\n",
            "21/21 [==============================] - 0s 3ms/step - loss: 0.4460 - accuracy: 0.7994\n",
            "Epoch 332/500\n",
            "21/21 [==============================] - 0s 3ms/step - loss: 0.4472 - accuracy: 0.7840\n",
            "Epoch 333/500\n",
            "21/21 [==============================] - 0s 3ms/step - loss: 0.4387 - accuracy: 0.7901\n",
            "Epoch 334/500\n",
            "21/21 [==============================] - 0s 3ms/step - loss: 0.4235 - accuracy: 0.8102\n",
            "Epoch 335/500\n",
            "21/21 [==============================] - 0s 4ms/step - loss: 0.4179 - accuracy: 0.8025\n",
            "Epoch 336/500\n",
            "21/21 [==============================] - 0s 2ms/step - loss: 0.4130 - accuracy: 0.8133\n",
            "Epoch 337/500\n",
            "21/21 [==============================] - 0s 2ms/step - loss: 0.4175 - accuracy: 0.7994\n",
            "Epoch 338/500\n",
            "21/21 [==============================] - 0s 3ms/step - loss: 0.4132 - accuracy: 0.8071\n",
            "Epoch 339/500\n",
            "21/21 [==============================] - 0s 3ms/step - loss: 0.4050 - accuracy: 0.8086\n",
            "Epoch 340/500\n",
            "21/21 [==============================] - 0s 2ms/step - loss: 0.4182 - accuracy: 0.8056\n",
            "Epoch 341/500\n",
            "21/21 [==============================] - 0s 2ms/step - loss: 0.4213 - accuracy: 0.7932\n",
            "Epoch 342/500\n",
            "21/21 [==============================] - 0s 3ms/step - loss: 0.4198 - accuracy: 0.8102\n",
            "Epoch 343/500\n",
            "21/21 [==============================] - 0s 3ms/step - loss: 0.4222 - accuracy: 0.8040\n",
            "Epoch 344/500\n",
            "21/21 [==============================] - 0s 2ms/step - loss: 0.4107 - accuracy: 0.8117\n",
            "Epoch 345/500\n",
            "21/21 [==============================] - 0s 3ms/step - loss: 0.4119 - accuracy: 0.8102\n",
            "Epoch 346/500\n",
            "21/21 [==============================] - 0s 4ms/step - loss: 0.4090 - accuracy: 0.8009\n",
            "Epoch 347/500\n",
            "21/21 [==============================] - 0s 3ms/step - loss: 0.4054 - accuracy: 0.8102\n",
            "Epoch 348/500\n",
            "21/21 [==============================] - 0s 2ms/step - loss: 0.3993 - accuracy: 0.8148\n",
            "Epoch 349/500\n",
            "21/21 [==============================] - 0s 2ms/step - loss: 0.4159 - accuracy: 0.8102\n",
            "Epoch 350/500\n",
            "21/21 [==============================] - 0s 3ms/step - loss: 0.4234 - accuracy: 0.8025\n",
            "Epoch 351/500\n",
            "21/21 [==============================] - 0s 3ms/step - loss: 0.4140 - accuracy: 0.8040\n",
            "Epoch 352/500\n",
            "21/21 [==============================] - 0s 2ms/step - loss: 0.4378 - accuracy: 0.7824\n",
            "Epoch 353/500\n",
            "21/21 [==============================] - 0s 2ms/step - loss: 0.4105 - accuracy: 0.8025\n",
            "Epoch 354/500\n",
            "21/21 [==============================] - 0s 2ms/step - loss: 0.4296 - accuracy: 0.7870\n",
            "Epoch 355/500\n",
            "21/21 [==============================] - 0s 2ms/step - loss: 0.4009 - accuracy: 0.8148\n",
            "Epoch 356/500\n",
            "21/21 [==============================] - 0s 3ms/step - loss: 0.4164 - accuracy: 0.8040\n",
            "Epoch 357/500\n",
            "21/21 [==============================] - 0s 2ms/step - loss: 0.4085 - accuracy: 0.8009\n",
            "Epoch 358/500\n",
            "21/21 [==============================] - 0s 2ms/step - loss: 0.4101 - accuracy: 0.8102\n",
            "Epoch 359/500\n",
            "21/21 [==============================] - 0s 4ms/step - loss: 0.4071 - accuracy: 0.7994\n",
            "Epoch 360/500\n",
            "21/21 [==============================] - 0s 2ms/step - loss: 0.4228 - accuracy: 0.7948\n",
            "Epoch 361/500\n",
            "21/21 [==============================] - 0s 3ms/step - loss: 0.4815 - accuracy: 0.7685\n",
            "Epoch 362/500\n",
            "21/21 [==============================] - 0s 4ms/step - loss: 0.4311 - accuracy: 0.7855\n",
            "Epoch 363/500\n",
            "21/21 [==============================] - 0s 3ms/step - loss: 0.4312 - accuracy: 0.7840\n",
            "Epoch 364/500\n",
            "21/21 [==============================] - 0s 4ms/step - loss: 0.4116 - accuracy: 0.8117\n",
            "Epoch 365/500\n",
            "21/21 [==============================] - 0s 4ms/step - loss: 0.4041 - accuracy: 0.8040\n",
            "Epoch 366/500\n",
            "21/21 [==============================] - 0s 2ms/step - loss: 0.4588 - accuracy: 0.7716\n",
            "Epoch 367/500\n",
            "21/21 [==============================] - 0s 2ms/step - loss: 0.4164 - accuracy: 0.7978\n",
            "Epoch 368/500\n",
            "21/21 [==============================] - 0s 2ms/step - loss: 0.4093 - accuracy: 0.7994\n",
            "Epoch 369/500\n",
            "21/21 [==============================] - 0s 3ms/step - loss: 0.4139 - accuracy: 0.8102\n",
            "Epoch 370/500\n",
            "21/21 [==============================] - 0s 4ms/step - loss: 0.4033 - accuracy: 0.8071\n",
            "Epoch 371/500\n",
            "21/21 [==============================] - 0s 2ms/step - loss: 0.4128 - accuracy: 0.7932\n",
            "Epoch 372/500\n",
            "21/21 [==============================] - 0s 3ms/step - loss: 0.4245 - accuracy: 0.7886\n",
            "Epoch 373/500\n",
            "21/21 [==============================] - 0s 2ms/step - loss: 0.4123 - accuracy: 0.8009\n",
            "Epoch 374/500\n",
            "21/21 [==============================] - 0s 3ms/step - loss: 0.4147 - accuracy: 0.8025\n",
            "Epoch 375/500\n",
            "21/21 [==============================] - 0s 3ms/step - loss: 0.4075 - accuracy: 0.8179\n",
            "Epoch 376/500\n",
            "21/21 [==============================] - 0s 3ms/step - loss: 0.4440 - accuracy: 0.7901\n",
            "Epoch 377/500\n",
            "21/21 [==============================] - 0s 3ms/step - loss: 0.4606 - accuracy: 0.7870\n",
            "Epoch 378/500\n",
            "21/21 [==============================] - 0s 3ms/step - loss: 0.4106 - accuracy: 0.8164\n",
            "Epoch 379/500\n",
            "21/21 [==============================] - 0s 4ms/step - loss: 0.4030 - accuracy: 0.8148\n",
            "Epoch 380/500\n",
            "21/21 [==============================] - 0s 3ms/step - loss: 0.4198 - accuracy: 0.7978\n",
            "Epoch 381/500\n",
            "21/21 [==============================] - 0s 3ms/step - loss: 0.4342 - accuracy: 0.7917\n",
            "Epoch 382/500\n",
            "21/21 [==============================] - 0s 2ms/step - loss: 0.4025 - accuracy: 0.8086\n",
            "Epoch 383/500\n",
            "21/21 [==============================] - 0s 2ms/step - loss: 0.4021 - accuracy: 0.8148\n",
            "Epoch 384/500\n",
            "21/21 [==============================] - 0s 3ms/step - loss: 0.4282 - accuracy: 0.7870\n",
            "Epoch 385/500\n",
            "21/21 [==============================] - 0s 2ms/step - loss: 0.4255 - accuracy: 0.7855\n",
            "Epoch 386/500\n",
            "21/21 [==============================] - 0s 3ms/step - loss: 0.4107 - accuracy: 0.8056\n",
            "Epoch 387/500\n",
            "21/21 [==============================] - 0s 3ms/step - loss: 0.4290 - accuracy: 0.8040\n",
            "Epoch 388/500\n",
            "21/21 [==============================] - 0s 3ms/step - loss: 0.4035 - accuracy: 0.8056\n",
            "Epoch 389/500\n",
            "21/21 [==============================] - 0s 3ms/step - loss: 0.4292 - accuracy: 0.7855\n",
            "Epoch 390/500\n",
            "21/21 [==============================] - 0s 3ms/step - loss: 0.4199 - accuracy: 0.7855\n",
            "Epoch 391/500\n",
            "21/21 [==============================] - 0s 3ms/step - loss: 0.4195 - accuracy: 0.7917\n",
            "Epoch 392/500\n",
            "21/21 [==============================] - 0s 3ms/step - loss: 0.4077 - accuracy: 0.8071\n",
            "Epoch 393/500\n",
            "21/21 [==============================] - 0s 3ms/step - loss: 0.4040 - accuracy: 0.8071\n",
            "Epoch 394/500\n",
            "21/21 [==============================] - 0s 4ms/step - loss: 0.4080 - accuracy: 0.8086\n",
            "Epoch 395/500\n",
            "21/21 [==============================] - 0s 3ms/step - loss: 0.4290 - accuracy: 0.7932\n",
            "Epoch 396/500\n",
            "21/21 [==============================] - 0s 2ms/step - loss: 0.4132 - accuracy: 0.8009\n",
            "Epoch 397/500\n",
            "21/21 [==============================] - 0s 3ms/step - loss: 0.4210 - accuracy: 0.8040\n",
            "Epoch 398/500\n",
            "21/21 [==============================] - 0s 3ms/step - loss: 0.4460 - accuracy: 0.7809\n",
            "Epoch 399/500\n",
            "21/21 [==============================] - 0s 3ms/step - loss: 0.4554 - accuracy: 0.7948\n",
            "Epoch 400/500\n",
            "21/21 [==============================] - 0s 3ms/step - loss: 0.4091 - accuracy: 0.7994\n",
            "Epoch 401/500\n",
            "21/21 [==============================] - 0s 2ms/step - loss: 0.4212 - accuracy: 0.8056\n",
            "Epoch 402/500\n",
            "21/21 [==============================] - 0s 3ms/step - loss: 0.4172 - accuracy: 0.7963\n",
            "Epoch 403/500\n",
            "21/21 [==============================] - 0s 2ms/step - loss: 0.4181 - accuracy: 0.8086\n",
            "Epoch 404/500\n",
            "21/21 [==============================] - 0s 2ms/step - loss: 0.4007 - accuracy: 0.8040\n",
            "Epoch 405/500\n",
            "21/21 [==============================] - 0s 2ms/step - loss: 0.4026 - accuracy: 0.8133\n",
            "Epoch 406/500\n",
            "21/21 [==============================] - 0s 2ms/step - loss: 0.4081 - accuracy: 0.8102\n",
            "Epoch 407/500\n",
            "21/21 [==============================] - 0s 3ms/step - loss: 0.4033 - accuracy: 0.8040\n",
            "Epoch 408/500\n",
            "21/21 [==============================] - 0s 3ms/step - loss: 0.4210 - accuracy: 0.7793\n",
            "Epoch 409/500\n",
            "21/21 [==============================] - 0s 4ms/step - loss: 0.4225 - accuracy: 0.7855\n",
            "Epoch 410/500\n",
            "21/21 [==============================] - 0s 2ms/step - loss: 0.4317 - accuracy: 0.7870\n",
            "Epoch 411/500\n",
            "21/21 [==============================] - 0s 3ms/step - loss: 0.4426 - accuracy: 0.7901\n",
            "Epoch 412/500\n",
            "21/21 [==============================] - 0s 3ms/step - loss: 0.4141 - accuracy: 0.8009\n",
            "Epoch 413/500\n",
            "21/21 [==============================] - 0s 3ms/step - loss: 0.4341 - accuracy: 0.7948\n",
            "Epoch 414/500\n",
            "21/21 [==============================] - 0s 2ms/step - loss: 0.4100 - accuracy: 0.8117\n",
            "Epoch 415/500\n",
            "21/21 [==============================] - 0s 2ms/step - loss: 0.4004 - accuracy: 0.8117\n",
            "Epoch 416/500\n",
            "21/21 [==============================] - 0s 3ms/step - loss: 0.4035 - accuracy: 0.8025\n",
            "Epoch 417/500\n",
            "21/21 [==============================] - 0s 4ms/step - loss: 0.4257 - accuracy: 0.7855\n",
            "Epoch 418/500\n",
            "21/21 [==============================] - 0s 3ms/step - loss: 0.3991 - accuracy: 0.8148\n",
            "Epoch 419/500\n",
            "21/21 [==============================] - 0s 3ms/step - loss: 0.4084 - accuracy: 0.8009\n",
            "Epoch 420/500\n",
            "21/21 [==============================] - 0s 2ms/step - loss: 0.4176 - accuracy: 0.7948\n",
            "Epoch 421/500\n",
            "21/21 [==============================] - 0s 3ms/step - loss: 0.4421 - accuracy: 0.7855\n",
            "Epoch 422/500\n",
            "21/21 [==============================] - 0s 2ms/step - loss: 0.4020 - accuracy: 0.8164\n",
            "Epoch 423/500\n",
            "21/21 [==============================] - 0s 2ms/step - loss: 0.4084 - accuracy: 0.8040\n",
            "Epoch 424/500\n",
            "21/21 [==============================] - 0s 4ms/step - loss: 0.4038 - accuracy: 0.8086\n",
            "Epoch 425/500\n",
            "21/21 [==============================] - 0s 3ms/step - loss: 0.4137 - accuracy: 0.7994\n",
            "Epoch 426/500\n",
            "21/21 [==============================] - 0s 3ms/step - loss: 0.4027 - accuracy: 0.8071\n",
            "Epoch 427/500\n",
            "21/21 [==============================] - 0s 3ms/step - loss: 0.4141 - accuracy: 0.7963\n",
            "Epoch 428/500\n",
            "21/21 [==============================] - 0s 2ms/step - loss: 0.4704 - accuracy: 0.7793\n",
            "Epoch 429/500\n",
            "21/21 [==============================] - 0s 3ms/step - loss: 0.4318 - accuracy: 0.7840\n",
            "Epoch 430/500\n",
            "21/21 [==============================] - 0s 3ms/step - loss: 0.4097 - accuracy: 0.8040\n",
            "Epoch 431/500\n",
            "21/21 [==============================] - 0s 3ms/step - loss: 0.4055 - accuracy: 0.8056\n",
            "Epoch 432/500\n",
            "21/21 [==============================] - 0s 3ms/step - loss: 0.4164 - accuracy: 0.7978\n",
            "Epoch 433/500\n",
            "21/21 [==============================] - 0s 3ms/step - loss: 0.4561 - accuracy: 0.7778\n",
            "Epoch 434/500\n",
            "21/21 [==============================] - 0s 2ms/step - loss: 0.4266 - accuracy: 0.7948\n",
            "Epoch 435/500\n",
            "21/21 [==============================] - 0s 3ms/step - loss: 0.4068 - accuracy: 0.7994\n",
            "Epoch 436/500\n",
            "21/21 [==============================] - 0s 4ms/step - loss: 0.3957 - accuracy: 0.8056\n",
            "Epoch 437/500\n",
            "21/21 [==============================] - 0s 3ms/step - loss: 0.4009 - accuracy: 0.8040\n",
            "Epoch 438/500\n",
            "21/21 [==============================] - 0s 4ms/step - loss: 0.4069 - accuracy: 0.8086\n",
            "Epoch 439/500\n",
            "21/21 [==============================] - 0s 3ms/step - loss: 0.4014 - accuracy: 0.8056\n",
            "Epoch 440/500\n",
            "21/21 [==============================] - 0s 4ms/step - loss: 0.4000 - accuracy: 0.8040\n",
            "Epoch 441/500\n",
            "21/21 [==============================] - 0s 4ms/step - loss: 0.4362 - accuracy: 0.7932\n",
            "Epoch 442/500\n",
            "21/21 [==============================] - 0s 3ms/step - loss: 0.4167 - accuracy: 0.8086\n",
            "Epoch 443/500\n",
            "21/21 [==============================] - 0s 3ms/step - loss: 0.4231 - accuracy: 0.8040\n",
            "Epoch 444/500\n",
            "21/21 [==============================] - 0s 4ms/step - loss: 0.4429 - accuracy: 0.7793\n",
            "Epoch 445/500\n",
            "21/21 [==============================] - 0s 4ms/step - loss: 0.3992 - accuracy: 0.8117\n",
            "Epoch 446/500\n",
            "21/21 [==============================] - 0s 2ms/step - loss: 0.4143 - accuracy: 0.7994\n",
            "Epoch 447/500\n",
            "21/21 [==============================] - 0s 2ms/step - loss: 0.5298 - accuracy: 0.7485\n",
            "Epoch 448/500\n",
            "21/21 [==============================] - 0s 3ms/step - loss: 0.5084 - accuracy: 0.7515\n",
            "Epoch 449/500\n",
            "21/21 [==============================] - 0s 3ms/step - loss: 0.4677 - accuracy: 0.7701\n",
            "Epoch 450/500\n",
            "21/21 [==============================] - 0s 3ms/step - loss: 0.4520 - accuracy: 0.7855\n",
            "Epoch 451/500\n",
            "21/21 [==============================] - 0s 4ms/step - loss: 0.4229 - accuracy: 0.8009\n",
            "Epoch 452/500\n",
            "21/21 [==============================] - 0s 3ms/step - loss: 0.4100 - accuracy: 0.8133\n",
            "Epoch 453/500\n",
            "21/21 [==============================] - 0s 4ms/step - loss: 0.4087 - accuracy: 0.8133\n",
            "Epoch 454/500\n",
            "21/21 [==============================] - 0s 4ms/step - loss: 0.4082 - accuracy: 0.8164\n",
            "Epoch 455/500\n",
            "21/21 [==============================] - 0s 3ms/step - loss: 0.4141 - accuracy: 0.7994\n",
            "Epoch 456/500\n",
            "21/21 [==============================] - 0s 2ms/step - loss: 0.4093 - accuracy: 0.8102\n",
            "Epoch 457/500\n",
            "21/21 [==============================] - 0s 3ms/step - loss: 0.3952 - accuracy: 0.8210\n",
            "Epoch 458/500\n",
            "21/21 [==============================] - 0s 4ms/step - loss: 0.4078 - accuracy: 0.8102\n",
            "Epoch 459/500\n",
            "21/21 [==============================] - 0s 4ms/step - loss: 0.4018 - accuracy: 0.8102\n",
            "Epoch 460/500\n",
            "21/21 [==============================] - 0s 3ms/step - loss: 0.4175 - accuracy: 0.8133\n",
            "Epoch 461/500\n",
            "21/21 [==============================] - 0s 4ms/step - loss: 0.4148 - accuracy: 0.7963\n",
            "Epoch 462/500\n",
            "21/21 [==============================] - 0s 4ms/step - loss: 0.3958 - accuracy: 0.8133\n",
            "Epoch 463/500\n",
            "21/21 [==============================] - 0s 3ms/step - loss: 0.4107 - accuracy: 0.8071\n",
            "Epoch 464/500\n",
            "21/21 [==============================] - 0s 4ms/step - loss: 0.4010 - accuracy: 0.8133\n",
            "Epoch 465/500\n",
            "21/21 [==============================] - 0s 2ms/step - loss: 0.4149 - accuracy: 0.8102\n",
            "Epoch 466/500\n",
            "21/21 [==============================] - 0s 3ms/step - loss: 0.4166 - accuracy: 0.8086\n",
            "Epoch 467/500\n",
            "21/21 [==============================] - 0s 4ms/step - loss: 0.3989 - accuracy: 0.8071\n",
            "Epoch 468/500\n",
            "21/21 [==============================] - 0s 3ms/step - loss: 0.3975 - accuracy: 0.8225\n",
            "Epoch 469/500\n",
            "21/21 [==============================] - 0s 3ms/step - loss: 0.4035 - accuracy: 0.8133\n",
            "Epoch 470/500\n",
            "21/21 [==============================] - 0s 4ms/step - loss: 0.4013 - accuracy: 0.8210\n",
            "Epoch 471/500\n",
            "21/21 [==============================] - 0s 3ms/step - loss: 0.3970 - accuracy: 0.8102\n",
            "Epoch 472/500\n",
            "21/21 [==============================] - 0s 3ms/step - loss: 0.3991 - accuracy: 0.8102\n",
            "Epoch 473/500\n",
            "21/21 [==============================] - 0s 3ms/step - loss: 0.4250 - accuracy: 0.7948\n",
            "Epoch 474/500\n",
            "21/21 [==============================] - 0s 3ms/step - loss: 0.4088 - accuracy: 0.8102\n",
            "Epoch 475/500\n",
            "21/21 [==============================] - 0s 4ms/step - loss: 0.4025 - accuracy: 0.8056\n",
            "Epoch 476/500\n",
            "21/21 [==============================] - 0s 4ms/step - loss: 0.4122 - accuracy: 0.8025\n",
            "Epoch 477/500\n",
            "21/21 [==============================] - 0s 4ms/step - loss: 0.4136 - accuracy: 0.8040\n",
            "Epoch 478/500\n",
            "21/21 [==============================] - 0s 2ms/step - loss: 0.4662 - accuracy: 0.7562\n",
            "Epoch 479/500\n",
            "21/21 [==============================] - 0s 4ms/step - loss: 0.3994 - accuracy: 0.8164\n",
            "Epoch 480/500\n",
            "21/21 [==============================] - 0s 3ms/step - loss: 0.4014 - accuracy: 0.8194\n",
            "Epoch 481/500\n",
            "21/21 [==============================] - 0s 3ms/step - loss: 0.4301 - accuracy: 0.7932\n",
            "Epoch 482/500\n",
            "21/21 [==============================] - 0s 3ms/step - loss: 0.3980 - accuracy: 0.8040\n",
            "Epoch 483/500\n",
            "21/21 [==============================] - 0s 3ms/step - loss: 0.3981 - accuracy: 0.8133\n",
            "Epoch 484/500\n",
            "21/21 [==============================] - 0s 3ms/step - loss: 0.4106 - accuracy: 0.8194\n",
            "Epoch 485/500\n",
            "21/21 [==============================] - 0s 3ms/step - loss: 0.3941 - accuracy: 0.8225\n",
            "Epoch 486/500\n",
            "21/21 [==============================] - 0s 3ms/step - loss: 0.4010 - accuracy: 0.8179\n",
            "Epoch 487/500\n",
            "21/21 [==============================] - 0s 3ms/step - loss: 0.3976 - accuracy: 0.8241\n",
            "Epoch 488/500\n",
            "21/21 [==============================] - 0s 3ms/step - loss: 0.4719 - accuracy: 0.7886\n",
            "Epoch 489/500\n",
            "21/21 [==============================] - 0s 3ms/step - loss: 0.4306 - accuracy: 0.7978\n",
            "Epoch 490/500\n",
            "21/21 [==============================] - 0s 3ms/step - loss: 0.4045 - accuracy: 0.8133\n",
            "Epoch 491/500\n",
            "21/21 [==============================] - 0s 4ms/step - loss: 0.4169 - accuracy: 0.7978\n",
            "Epoch 492/500\n",
            "21/21 [==============================] - 0s 3ms/step - loss: 0.4006 - accuracy: 0.8194\n",
            "Epoch 493/500\n",
            "21/21 [==============================] - 0s 3ms/step - loss: 0.3950 - accuracy: 0.8102\n",
            "Epoch 494/500\n",
            "21/21 [==============================] - 0s 4ms/step - loss: 0.3994 - accuracy: 0.8102\n",
            "Epoch 495/500\n",
            "21/21 [==============================] - 0s 4ms/step - loss: 0.3926 - accuracy: 0.8210\n",
            "Epoch 496/500\n",
            "21/21 [==============================] - 0s 3ms/step - loss: 0.3921 - accuracy: 0.8179\n",
            "Epoch 497/500\n",
            "21/21 [==============================] - 0s 3ms/step - loss: 0.3981 - accuracy: 0.8179\n",
            "Epoch 498/500\n",
            "21/21 [==============================] - 0s 2ms/step - loss: 0.4865 - accuracy: 0.7762\n",
            "Epoch 499/500\n",
            "21/21 [==============================] - 0s 4ms/step - loss: 0.4467 - accuracy: 0.7978\n",
            "Epoch 500/500\n",
            "21/21 [==============================] - 0s 3ms/step - loss: 0.4231 - accuracy: 0.8009\n"
          ]
        },
        {
          "output_type": "execute_result",
          "data": {
            "text/plain": [
              "<keras.callbacks.History at 0x7f38912e7c90>"
            ]
          },
          "metadata": {},
          "execution_count": 140
        }
      ]
    },
    {
      "cell_type": "code",
      "metadata": {
        "_uuid": "c844af4f00d40c4cce4c4e5a9a01c9a892e9533d",
        "id": "RdE2SMV4G-ba"
      },
      "source": [
        "Y_pred_nn = model.predict(X_test)"
      ],
      "execution_count": null,
      "outputs": []
    },
    {
      "cell_type": "code",
      "metadata": {
        "_uuid": "7e95c4946c0103225663862f43f31c41ed5aa2b1",
        "id": "Qpy0KB7zG-bb",
        "colab": {
          "base_uri": "https://localhost:8080/"
        },
        "outputId": "bfda48a6-326e-4b3f-de2d-b6a381d72dcb"
      },
      "source": [
        "Y_pred_nn.shape"
      ],
      "execution_count": null,
      "outputs": [
        {
          "output_type": "execute_result",
          "data": {
            "text/plain": [
              "(162, 1)"
            ]
          },
          "metadata": {},
          "execution_count": 132
        }
      ]
    },
    {
      "cell_type": "code",
      "metadata": {
        "_uuid": "66d9268e3f87b5a98066196eaa39363218a20015",
        "id": "JchQeSZxG-bb"
      },
      "source": [
        "rounded = [round(x[0]) for x in Y_pred_nn]\n",
        "\n",
        "Y_pred_nn = rounded"
      ],
      "execution_count": null,
      "outputs": []
    },
    {
      "cell_type": "code",
      "source": [
        ""
      ],
      "metadata": {
        "id": "ORVGLXcBd6cX"
      },
      "execution_count": null,
      "outputs": []
    },
    {
      "cell_type": "code",
      "metadata": {
        "_uuid": "888d79632c3191c2d11c1ec3da8dc750c9d95424",
        "id": "lf_XNHi1G-bb",
        "colab": {
          "base_uri": "https://localhost:8080/"
        },
        "outputId": "ef7f1d51-a524-4d20-e3bc-7d458993d02f"
      },
      "source": [
        "score_nn = round(accuracy_score(Y_pred_nn,Y_test)*100,2)\n",
        "\n",
        "print(\"The accuracy score achieved using Neural Network is: \"+str(score_nn)+\" %\")\n",
        "\n",
        "#Note: Accuracy of 85% can be achieved on the test set, by setting epochs=2000, and number of nodes = 11. "
      ],
      "execution_count": null,
      "outputs": [
        {
          "output_type": "stream",
          "name": "stdout",
          "text": [
            "The accuracy score achieved using Neural Network is: 69.75 %\n"
          ]
        }
      ]
    },
    {
      "cell_type": "markdown",
      "metadata": {
        "_uuid": "c634cd922d716d350f6db0244772260cc598dec4",
        "id": "4wXo2J83G-bc"
      },
      "source": [
        "## VI. Output final score"
      ]
    },
    {
      "cell_type": "code",
      "metadata": {
        "_uuid": "101daa51242624c49bb8b3198d9d2c9f8f1c596e",
        "id": "cjN5AJNuG-bc",
        "colab": {
          "base_uri": "https://localhost:8080/"
        },
        "outputId": "95732f16-e225-4141-8f12-93b89dee4014"
      },
      "source": [
        "scores = [score_lr,score_nb,score_svm,score_knn,score_dt,score_rf,score_xgb,score_nn]\n",
        "algorithms = [\"Logistic Regression\",\"Naive Bayes\",\"Support Vector Machine\",\"K-Nearest Neighbors\",\"Decision Tree\",\"Random Forest\",\"XGBoost\",\"Neural Network\"]    \n",
        "\n",
        "for i in range(len(algorithms)):\n",
        "    print(\"The accuracy score achieved using \"+algorithms[i]+\" is: \"+str(scores[i])+\" %\")"
      ],
      "execution_count": null,
      "outputs": [
        {
          "output_type": "stream",
          "name": "stdout",
          "text": [
            "The accuracy score achieved using Logistic Regression is: 64.2 %\n",
            "The accuracy score achieved using Naive Bayes is: 63.64 %\n",
            "The accuracy score achieved using Support Vector Machine is: 68.75 %\n",
            "The accuracy score achieved using K-Nearest Neighbors is: 39.77 %\n",
            "The accuracy score achieved using Decision Tree is: 86.93 %\n",
            "The accuracy score achieved using Random Forest is: 92.61 %\n",
            "The accuracy score achieved using XGBoost is: 79.55 %\n",
            "The accuracy score achieved using Neural Network is: 72.16 %\n"
          ]
        }
      ]
    },
    {
      "cell_type": "code",
      "metadata": {
        "_uuid": "8060c7d426f9f7b64772f37e0a74ededca16838d",
        "id": "KXtwSLKhG-bc",
        "colab": {
          "base_uri": "https://localhost:8080/",
          "height": 519
        },
        "outputId": "ef5fc3d5-6940-4f31-f0b0-ffbaf955ae0e"
      },
      "source": [
        "sns.set(rc={'figure.figsize':(15,8)})\n",
        "plt.xlabel(\"Algorithms\")\n",
        "plt.ylabel(\"Accuracy score\")\n",
        "\n",
        "sns.barplot(algorithms,scores)"
      ],
      "execution_count": null,
      "outputs": [
        {
          "output_type": "execute_result",
          "data": {
            "text/plain": [
              "<matplotlib.axes._subplots.AxesSubplot at 0x7f3899deed90>"
            ]
          },
          "metadata": {},
          "execution_count": 72
        },
        {
          "output_type": "display_data",
          "data": {
            "image/png": "[encoded data removed]",
            "text/plain": [
              "<Figure size 1080x576 with 1 Axes>"
            ]
          },
          "metadata": {}
        }
      ]
    }
  ]
}